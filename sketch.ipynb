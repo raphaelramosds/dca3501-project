{
 "cells": [
  {
   "cell_type": "code",
   "execution_count": 1,
   "id": "953c712c",
   "metadata": {},
   "outputs": [],
   "source": [
    "# Silence is golden"
   ]
  }
 ],
 "metadata": {
  "kernelspec": {
   "display_name": "dc",
   "language": "python",
   "name": "python3"
  },
  "language_info": {
   "codemirror_mode": {
    "name": "ipython",
    "version": 3
   },
   "file_extension": ".py",
   "mimetype": "text/x-python",
   "name": "python",
   "nbconvert_exporter": "python",
   "pygments_lexer": "ipython3",
   "version": "3.12.3"
  }
 },
 "nbformat": 4,
 "nbformat_minor": 5
}
