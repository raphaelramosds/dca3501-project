{
 "cells": [
  {
   "cell_type": "code",
   "execution_count": 21,
   "id": "705a394f",
   "metadata": {},
   "outputs": [],
   "source": [
    "import pandas as pd\n",
    "import numpy as np\n",
    "\n",
    "df_air_quality = pd.read_csv('data/india_air_quality_daily_2015_to_2020.csv')\n",
    "df_weather = pd.read_csv('data/india_weather_daily_data_combined_2010_to_2019.csv')"
   ]
  },
  {
   "cell_type": "code",
   "execution_count": 22,
   "id": "32284338",
   "metadata": {},
   "outputs": [
    {
     "name": "stdout",
     "output_type": "stream",
     "text": [
      "<class 'pandas.core.frame.DataFrame'>\n",
      "Index: 3652 entries, 32868 to 36519\n",
      "Data columns (total 22 columns):\n",
      " #   Column                       Non-Null Count  Dtype  \n",
      "---  ------                       --------------  -----  \n",
      " 0   city_name                    3652 non-null   object \n",
      " 1   datetime                     3652 non-null   object \n",
      " 2   weather_code                 3652 non-null   float64\n",
      " 3   temperature_2m_max           3652 non-null   float64\n",
      " 4   temperature_2m_min           3652 non-null   float64\n",
      " 5   temperature_2m_mean          3652 non-null   float64\n",
      " 6   apparent_temperature_max     3652 non-null   float64\n",
      " 7   apparent_temperature_min     3652 non-null   float64\n",
      " 8   apparent_temperature_mean    3652 non-null   float64\n",
      " 9   sunrise                      3652 non-null   object \n",
      " 10  sunset                       3652 non-null   object \n",
      " 11  daylight_duration            3652 non-null   float64\n",
      " 12  sunshine_duration            3652 non-null   float64\n",
      " 13  precipitation_sum            3652 non-null   float64\n",
      " 14  rain_sum                     3652 non-null   float64\n",
      " 15  snowfall_sum                 3652 non-null   float64\n",
      " 16  precipitation_hours          3652 non-null   float64\n",
      " 17  wind_speed_10m_max           3652 non-null   float64\n",
      " 18  wind_gusts_10m_max           3652 non-null   float64\n",
      " 19  wind_direction_10m_dominant  3652 non-null   float64\n",
      " 20  shortwave_radiation_sum      3652 non-null   float64\n",
      " 21  et0_fao_evapotranspiration   3652 non-null   float64\n",
      "dtypes: float64(18), object(4)\n",
      "memory usage: 656.2+ KB\n",
      "Dados do clima em Deli de 2010-01-01 ate 2019-12-31\n"
     ]
    }
   ],
   "source": [
    "df_weather_daily_dellhi = df_weather[df_weather['city_name'] == 'Delhi']\n",
    "df_weather_daily_dellhi.info()\n",
    "\n",
    "print('Dados do clima em Deli de {} ate {}'.format(df_weather_daily_dellhi['datetime'].min(), df_weather_daily_dellhi['datetime'].max()))"
   ]
  },
  {
   "cell_type": "code",
   "execution_count": 23,
   "id": "5b8f2eef",
   "metadata": {},
   "outputs": [
    {
     "name": "stdout",
     "output_type": "stream",
     "text": [
      "<class 'pandas.core.frame.DataFrame'>\n",
      "Index: 2009 entries, 10229 to 12237\n",
      "Data columns (total 16 columns):\n",
      " #   Column      Non-Null Count  Dtype  \n",
      "---  ------      --------------  -----  \n",
      " 0   City        2009 non-null   object \n",
      " 1   Date        2009 non-null   object \n",
      " 2   PM2.5       2007 non-null   float64\n",
      " 3   PM10        1932 non-null   float64\n",
      " 4   NO          2007 non-null   float64\n",
      " 5   NO2         2007 non-null   float64\n",
      " 6   NOx         2009 non-null   float64\n",
      " 7   NH3         2000 non-null   float64\n",
      " 8   CO          2009 non-null   float64\n",
      " 9   SO2         1899 non-null   float64\n",
      " 10  O3          1925 non-null   float64\n",
      " 11  Benzene     2009 non-null   float64\n",
      " 12  Toluene     2009 non-null   float64\n",
      " 13  Xylene      1228 non-null   float64\n",
      " 14  AQI         1999 non-null   float64\n",
      " 15  AQI_Bucket  1999 non-null   object \n",
      "dtypes: float64(13), object(3)\n",
      "memory usage: 266.8+ KB\n",
      "Dados de qualidade do ar em Deli de 2015-01-01 ate 2020-07-01\n"
     ]
    }
   ],
   "source": [
    "df_air_quality_delhi = df_air_quality[df_air_quality['City'] == 'Delhi']\n",
    "df_air_quality_delhi.info()\n",
    "\n",
    "print('Dados de qualidade do ar em Deli de {} ate {}'.format(df_air_quality_delhi['Date'].min(), df_air_quality_delhi['Date'].max()))"
   ]
  }
 ],
 "metadata": {
  "kernelspec": {
   "display_name": "dc",
   "language": "python",
   "name": "python3"
  },
  "language_info": {
   "codemirror_mode": {
    "name": "ipython",
    "version": 3
   },
   "file_extension": ".py",
   "mimetype": "text/x-python",
   "name": "python",
   "nbconvert_exporter": "python",
   "pygments_lexer": "ipython3",
   "version": "3.12.3"
  }
 },
 "nbformat": 4,
 "nbformat_minor": 5
}
