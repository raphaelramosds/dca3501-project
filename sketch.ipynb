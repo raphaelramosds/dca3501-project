{
 "cells": [
  {
   "cell_type": "markdown",
   "id": "95e49db8",
   "metadata": {},
   "source": [
    "# Trabalho 1 - Parte I - Projeto de Análise de Dados"
   ]
  },
  {
   "cell_type": "markdown",
   "id": "cabe3983",
   "metadata": {},
   "source": [
    "## Dataset escolhido\n",
    "\n",
    "*NYC OpenData Air Quality*. Disponível em: [https://data.cityofnewyork.us/Environment/Air-Quality/c3uy-2p5r/about_data](https://data.cityofnewyork.us/Environment/Air-Quality/c3uy-2p5r/about_data)"
   ]
  },
  {
   "cell_type": "markdown",
   "id": "8b372f72",
   "metadata": {},
   "source": [
    "## Explicação do dataset\n",
    "\n",
    "O *NYC OpenData Air Quality* reúne registros de diversos indicadores relacionados à qualidade do ar na cidade de Nova Iorque (EUA).\n",
    "\n",
    "Para os projetos que serão desenvolvidos nesta disciplina, serão aproveitados especialmente os indicadores ligados à área da saúde, como a concentração de substâncias químicas na atmosfera, a frequência de casos de doenças respiratórias e cardíacas associadas a essas substâncias, além do número de hospitalizações e óbitos decorrentes dessas condições.\n",
    "\n",
    "O dataset possui aproximadamente 18,9 mil registros, distribuídos em 12 colunas.\n",
    "\n",
    "Na tabela a seguir estão as descrições de cada uma dessas colunas\n",
    "\n",
    "| Coluna             | Descrição                                                                                             | Tipo                   |\n",
    "|--------------------|-------------------------------------------------------------------------------------------------------|------------------------|\n",
    "| `Unique ID`        | Identificador único do registro                                                                       | Text                   |\n",
    "| `Indicator ID`     | Identificador do tipo de valor medido ao longo do tempo e do espaço                                   | Number                 |\n",
    "| `Name`             | Nome do indicador                                                                                     | Text                   |\n",
    "| `Measure`          | Forma como o indicador é medido                                                                       | Text                   |\n",
    "| `Measure Info`     | Informações (como unidades) sobre a medida                                                            | Text                   |\n",
    "| `Geo Type Name`    | Tipo de geografia; 'UHF' refere-se a bairros do United Hospital Fund; exemplos: Citywide, Borough etc.| Text                   |\n",
    "| `Geo Join ID`      | Identificador da área geográfica do bairro, usado para criar mapas temáticos                          | Text                   |\n",
    "| `Geo Place Name`   | Nome do bairro                                                                                        | Text                   |\n",
    "| `Time Period`      | Descrição do período ao qual os dados se referem; pode ser um ano, intervalo de anos ou estação       | Text                   |\n",
    "| `Start_Date`       | Valor de data para o início do `time_period`; sempre uma data; útil para séries temporais             | Floating Timestamp     |\n",
    "| `Data Value`       | Valor real dos dados para este indicador, medida, local e tempo                                       | Number                 |\n",
    "| `Message`          | Notas aplicáveis ao `data_value`; ex: se uma estimativa é baseada em números pequenos                 | Text                   |\n",
    "\n"
   ]
  },
  {
   "cell_type": "code",
   "execution_count": 87,
   "id": "b96c71f0",
   "metadata": {},
   "outputs": [
    {
     "name": "stdout",
     "output_type": "stream",
     "text": [
      "(18862, 12)\n"
     ]
    },
    {
     "data": {
      "text/html": [
       "<div>\n",
       "<style scoped>\n",
       "    .dataframe tbody tr th:only-of-type {\n",
       "        vertical-align: middle;\n",
       "    }\n",
       "\n",
       "    .dataframe tbody tr th {\n",
       "        vertical-align: top;\n",
       "    }\n",
       "\n",
       "    .dataframe thead th {\n",
       "        text-align: right;\n",
       "    }\n",
       "</style>\n",
       "<table border=\"1\" class=\"dataframe\">\n",
       "  <thead>\n",
       "    <tr style=\"text-align: right;\">\n",
       "      <th></th>\n",
       "      <th>Unique ID</th>\n",
       "      <th>Indicator ID</th>\n",
       "      <th>Name</th>\n",
       "      <th>Measure</th>\n",
       "      <th>Measure Info</th>\n",
       "      <th>Geo Type Name</th>\n",
       "      <th>Geo Join ID</th>\n",
       "      <th>Geo Place Name</th>\n",
       "      <th>Time Period</th>\n",
       "      <th>Start_Date</th>\n",
       "      <th>Data Value</th>\n",
       "      <th>Message</th>\n",
       "    </tr>\n",
       "  </thead>\n",
       "  <tbody>\n",
       "    <tr>\n",
       "      <th>0</th>\n",
       "      <td>336867</td>\n",
       "      <td>375</td>\n",
       "      <td>Nitrogen dioxide (NO2)</td>\n",
       "      <td>Mean</td>\n",
       "      <td>ppb</td>\n",
       "      <td>CD</td>\n",
       "      <td>407</td>\n",
       "      <td>Flushing and Whitestone (CD7)</td>\n",
       "      <td>Winter 2014-15</td>\n",
       "      <td>12/01/2014</td>\n",
       "      <td>23.97</td>\n",
       "      <td>NaN</td>\n",
       "    </tr>\n",
       "    <tr>\n",
       "      <th>1</th>\n",
       "      <td>336741</td>\n",
       "      <td>375</td>\n",
       "      <td>Nitrogen dioxide (NO2)</td>\n",
       "      <td>Mean</td>\n",
       "      <td>ppb</td>\n",
       "      <td>CD</td>\n",
       "      <td>107</td>\n",
       "      <td>Upper West Side (CD7)</td>\n",
       "      <td>Winter 2014-15</td>\n",
       "      <td>12/01/2014</td>\n",
       "      <td>27.42</td>\n",
       "      <td>NaN</td>\n",
       "    </tr>\n",
       "    <tr>\n",
       "      <th>2</th>\n",
       "      <td>550157</td>\n",
       "      <td>375</td>\n",
       "      <td>Nitrogen dioxide (NO2)</td>\n",
       "      <td>Mean</td>\n",
       "      <td>ppb</td>\n",
       "      <td>CD</td>\n",
       "      <td>414</td>\n",
       "      <td>Rockaway and Broad Channel (CD14)</td>\n",
       "      <td>Annual Average 2017</td>\n",
       "      <td>01/01/2017</td>\n",
       "      <td>12.55</td>\n",
       "      <td>NaN</td>\n",
       "    </tr>\n",
       "    <tr>\n",
       "      <th>3</th>\n",
       "      <td>412802</td>\n",
       "      <td>375</td>\n",
       "      <td>Nitrogen dioxide (NO2)</td>\n",
       "      <td>Mean</td>\n",
       "      <td>ppb</td>\n",
       "      <td>CD</td>\n",
       "      <td>407</td>\n",
       "      <td>Flushing and Whitestone (CD7)</td>\n",
       "      <td>Winter 2015-16</td>\n",
       "      <td>12/01/2015</td>\n",
       "      <td>22.63</td>\n",
       "      <td>NaN</td>\n",
       "    </tr>\n",
       "    <tr>\n",
       "      <th>4</th>\n",
       "      <td>412803</td>\n",
       "      <td>375</td>\n",
       "      <td>Nitrogen dioxide (NO2)</td>\n",
       "      <td>Mean</td>\n",
       "      <td>ppb</td>\n",
       "      <td>CD</td>\n",
       "      <td>407</td>\n",
       "      <td>Flushing and Whitestone (CD7)</td>\n",
       "      <td>Summer 2016</td>\n",
       "      <td>06/01/2016</td>\n",
       "      <td>14.00</td>\n",
       "      <td>NaN</td>\n",
       "    </tr>\n",
       "  </tbody>\n",
       "</table>\n",
       "</div>"
      ],
      "text/plain": [
       "   Unique ID  Indicator ID                    Name Measure Measure Info  \\\n",
       "0     336867           375  Nitrogen dioxide (NO2)    Mean          ppb   \n",
       "1     336741           375  Nitrogen dioxide (NO2)    Mean          ppb   \n",
       "2     550157           375  Nitrogen dioxide (NO2)    Mean          ppb   \n",
       "3     412802           375  Nitrogen dioxide (NO2)    Mean          ppb   \n",
       "4     412803           375  Nitrogen dioxide (NO2)    Mean          ppb   \n",
       "\n",
       "  Geo Type Name  Geo Join ID                     Geo Place Name  \\\n",
       "0            CD          407      Flushing and Whitestone (CD7)   \n",
       "1            CD          107              Upper West Side (CD7)   \n",
       "2            CD          414  Rockaway and Broad Channel (CD14)   \n",
       "3            CD          407      Flushing and Whitestone (CD7)   \n",
       "4            CD          407      Flushing and Whitestone (CD7)   \n",
       "\n",
       "           Time Period  Start_Date  Data Value  Message  \n",
       "0       Winter 2014-15  12/01/2014       23.97      NaN  \n",
       "1       Winter 2014-15  12/01/2014       27.42      NaN  \n",
       "2  Annual Average 2017  01/01/2017       12.55      NaN  \n",
       "3       Winter 2015-16  12/01/2015       22.63      NaN  \n",
       "4          Summer 2016  06/01/2016       14.00      NaN  "
      ]
     },
     "execution_count": 87,
     "metadata": {},
     "output_type": "execute_result"
    }
   ],
   "source": [
    "import pandas as pd\n",
    "\n",
    "df = pd.read_csv('../data/Air_Quality.csv', sep=',', decimal='.')\n",
    "\n",
    "print(df.shape)\n",
    "\n",
    "df.head()"
   ]
  },
  {
   "cell_type": "markdown",
   "id": "ed921051",
   "metadata": {},
   "source": [
    "Para evitar digitar o nome de cada coluna nas consultas que vão ser feitas em análises futuras, aqui defino constantes para algumas colunas que serão relevantes."
   ]
  },
  {
   "cell_type": "code",
   "execution_count": 88,
   "id": "457f6e6a",
   "metadata": {},
   "outputs": [],
   "source": [
    "DF_COLUMN_NAME = 'Name'\n",
    "DF_COLUMN_MEASURE = 'Measure'\n",
    "DF_COLUMN_MEASURE_INFO = 'Measure Info'\n",
    "DF_COLUMN_GEO_TYPE_NAME = 'Geo Type Name'\n",
    "DF_COLUMN_GEO_PLACE_NAME = 'Geo Place Name'\n",
    "DF_COLUMN_TIME_PERIOD = 'Time Period'\n",
    "DF_COLUMN_START_DATE = 'Start_Date'\n",
    "DF_COLUMN_DATA_VALUE = 'Data Value'\n",
    "\n",
    "INDICATOR_NAME_O3 = 'Ozone (O3)'\n",
    "INDICATOR_NAME_PM25 = 'Fine particles (PM 2.5)'\n",
    "\n",
    "INDICATOR_GEO_TYPE_NAME_BOROUGH = 'Borough'\n",
    "\n",
    "INDICATOR_NAME_ASTHMA_EMERGENCY_O3 = 'Asthma emergency department visits due to PM2.5'\n",
    "INDICATOR_NAME_ASTHMA_EMERGENCY_PM25 = 'Asthma emergency departments visits due to Ozone'"
   ]
  },
  {
   "cell_type": "markdown",
   "id": "850565d6",
   "metadata": {},
   "source": [
    "## Investigação de dados faltantes\n",
    "\n",
    "Os dados faltantes do DataFrame obtido do CSV desse dataset se concentram apenas na coluna `Message`, que não interfere em análises futuras."
   ]
  },
  {
   "cell_type": "code",
   "execution_count": 89,
   "id": "516c6d6f",
   "metadata": {},
   "outputs": [
    {
     "data": {
      "text/plain": [
       "Unique ID             0\n",
       "Indicator ID          0\n",
       "Name                  0\n",
       "Measure               0\n",
       "Measure Info          0\n",
       "Geo Type Name         0\n",
       "Geo Join ID           0\n",
       "Geo Place Name        0\n",
       "Time Period           0\n",
       "Start_Date            0\n",
       "Data Value            0\n",
       "Message           18862\n",
       "dtype: int64"
      ]
     },
     "execution_count": 89,
     "metadata": {},
     "output_type": "execute_result"
    }
   ],
   "source": [
    "df.isna().sum()"
   ]
  },
  {
   "cell_type": "markdown",
   "id": "7c2756ed",
   "metadata": {},
   "source": [
    "## Análises pretendidas"
   ]
  },
  {
   "cell_type": "markdown",
   "id": "4f97e7ca",
   "metadata": {},
   "source": [
    "### Mapeamento geográfico da concentração de químicos\n",
    "\n",
    "Escolher um periodo para mapear a concentração de Ozônio (O3) e de Partículas Finas (PM2.5) nos distritos da cidade de Nova Iorque."
   ]
  },
  {
   "cell_type": "code",
   "execution_count": 90,
   "id": "4623fa8d",
   "metadata": {},
   "outputs": [],
   "source": [
    "df_o3_concentrations = df[\n",
    "    (df[DF_COLUMN_NAME] == INDICATOR_NAME_O3) &\n",
    "    (df[DF_COLUMN_GEO_TYPE_NAME] == INDICATOR_GEO_TYPE_NAME_BOROUGH)\n",
    "].copy()\n",
    "\n",
    "df_pm25_concentrations = df[\n",
    "    (df[DF_COLUMN_NAME] == INDICATOR_NAME_PM25)&\n",
    "    (df[DF_COLUMN_GEO_TYPE_NAME] == INDICATOR_GEO_TYPE_NAME_BOROUGH)\n",
    "].copy()"
   ]
  },
  {
   "cell_type": "code",
   "execution_count": 91,
   "id": "d81589d8",
   "metadata": {},
   "outputs": [
    {
     "name": "stdout",
     "output_type": "stream",
     "text": [
      "Informações sobre o dataframe com as concentrações de O3\n",
      "(75, 12)\n",
      "['Summer 2009' 'Summer 2021' 'Summer 2013' 'Summer 2014' 'Summer 2023'\n",
      " 'Summer 2018' 'Summer 2020' 'Summer 2022' 'Summer 2017' 'Summer 2011'\n",
      " 'Summer 2010' 'Summer 2016' 'Summer 2012' 'Summer 2015' 'Summer 2019']\n",
      "['ppb']\n",
      "['Mean']\n",
      "['Borough'] \n",
      "\n",
      "Concentracoes medias de O3 calculadas no verão de 2009 em cada distrito de Nova Iorque\n"
     ]
    },
    {
     "data": {
      "text/html": [
       "<div>\n",
       "<style scoped>\n",
       "    .dataframe tbody tr th:only-of-type {\n",
       "        vertical-align: middle;\n",
       "    }\n",
       "\n",
       "    .dataframe tbody tr th {\n",
       "        vertical-align: top;\n",
       "    }\n",
       "\n",
       "    .dataframe thead th {\n",
       "        text-align: right;\n",
       "    }\n",
       "</style>\n",
       "<table border=\"1\" class=\"dataframe\">\n",
       "  <thead>\n",
       "    <tr style=\"text-align: right;\">\n",
       "      <th></th>\n",
       "      <th>Unique ID</th>\n",
       "      <th>Indicator ID</th>\n",
       "      <th>Name</th>\n",
       "      <th>Measure</th>\n",
       "      <th>Measure Info</th>\n",
       "      <th>Geo Type Name</th>\n",
       "      <th>Geo Join ID</th>\n",
       "      <th>Geo Place Name</th>\n",
       "      <th>Time Period</th>\n",
       "      <th>Start_Date</th>\n",
       "      <th>Data Value</th>\n",
       "      <th>Message</th>\n",
       "    </tr>\n",
       "  </thead>\n",
       "  <tbody>\n",
       "    <tr>\n",
       "      <th>12903</th>\n",
       "      <td>219965</td>\n",
       "      <td>386</td>\n",
       "      <td>Ozone (O3)</td>\n",
       "      <td>Mean</td>\n",
       "      <td>ppb</td>\n",
       "      <td>Borough</td>\n",
       "      <td>1</td>\n",
       "      <td>Bronx</td>\n",
       "      <td>Summer 2009</td>\n",
       "      <td>06/01/2009</td>\n",
       "      <td>25.30</td>\n",
       "      <td>NaN</td>\n",
       "    </tr>\n",
       "    <tr>\n",
       "      <th>16445</th>\n",
       "      <td>219971</td>\n",
       "      <td>386</td>\n",
       "      <td>Ozone (O3)</td>\n",
       "      <td>Mean</td>\n",
       "      <td>ppb</td>\n",
       "      <td>Borough</td>\n",
       "      <td>2</td>\n",
       "      <td>Brooklyn</td>\n",
       "      <td>Summer 2009</td>\n",
       "      <td>06/01/2009</td>\n",
       "      <td>26.27</td>\n",
       "      <td>NaN</td>\n",
       "    </tr>\n",
       "    <tr>\n",
       "      <th>16478</th>\n",
       "      <td>219977</td>\n",
       "      <td>386</td>\n",
       "      <td>Ozone (O3)</td>\n",
       "      <td>Mean</td>\n",
       "      <td>ppb</td>\n",
       "      <td>Borough</td>\n",
       "      <td>3</td>\n",
       "      <td>Manhattan</td>\n",
       "      <td>Summer 2009</td>\n",
       "      <td>06/01/2009</td>\n",
       "      <td>20.44</td>\n",
       "      <td>NaN</td>\n",
       "    </tr>\n",
       "    <tr>\n",
       "      <th>18179</th>\n",
       "      <td>219983</td>\n",
       "      <td>386</td>\n",
       "      <td>Ozone (O3)</td>\n",
       "      <td>Mean</td>\n",
       "      <td>ppb</td>\n",
       "      <td>Borough</td>\n",
       "      <td>4</td>\n",
       "      <td>Queens</td>\n",
       "      <td>Summer 2009</td>\n",
       "      <td>06/01/2009</td>\n",
       "      <td>26.85</td>\n",
       "      <td>NaN</td>\n",
       "    </tr>\n",
       "    <tr>\n",
       "      <th>18750</th>\n",
       "      <td>219989</td>\n",
       "      <td>386</td>\n",
       "      <td>Ozone (O3)</td>\n",
       "      <td>Mean</td>\n",
       "      <td>ppb</td>\n",
       "      <td>Borough</td>\n",
       "      <td>5</td>\n",
       "      <td>Staten Island</td>\n",
       "      <td>Summer 2009</td>\n",
       "      <td>06/01/2009</td>\n",
       "      <td>26.72</td>\n",
       "      <td>NaN</td>\n",
       "    </tr>\n",
       "  </tbody>\n",
       "</table>\n",
       "</div>"
      ],
      "text/plain": [
       "       Unique ID  Indicator ID        Name Measure Measure Info Geo Type Name  \\\n",
       "12903     219965           386  Ozone (O3)    Mean          ppb       Borough   \n",
       "16445     219971           386  Ozone (O3)    Mean          ppb       Borough   \n",
       "16478     219977           386  Ozone (O3)    Mean          ppb       Borough   \n",
       "18179     219983           386  Ozone (O3)    Mean          ppb       Borough   \n",
       "18750     219989           386  Ozone (O3)    Mean          ppb       Borough   \n",
       "\n",
       "       Geo Join ID Geo Place Name  Time Period  Start_Date  Data Value  \\\n",
       "12903            1          Bronx  Summer 2009  06/01/2009       25.30   \n",
       "16445            2       Brooklyn  Summer 2009  06/01/2009       26.27   \n",
       "16478            3      Manhattan  Summer 2009  06/01/2009       20.44   \n",
       "18179            4         Queens  Summer 2009  06/01/2009       26.85   \n",
       "18750            5  Staten Island  Summer 2009  06/01/2009       26.72   \n",
       "\n",
       "       Message  \n",
       "12903      NaN  \n",
       "16445      NaN  \n",
       "16478      NaN  \n",
       "18179      NaN  \n",
       "18750      NaN  "
      ]
     },
     "execution_count": 91,
     "metadata": {},
     "output_type": "execute_result"
    }
   ],
   "source": [
    "print(\"Informações sobre o dataframe com as concentrações de O3\")\n",
    "print(df_o3_concentrations.shape)\n",
    "print(df_o3_concentrations[DF_COLUMN_TIME_PERIOD].unique())\n",
    "print(df_o3_concentrations[DF_COLUMN_MEASURE_INFO].unique())\n",
    "print(df_o3_concentrations[DF_COLUMN_MEASURE].unique())\n",
    "print(df_o3_concentrations[DF_COLUMN_GEO_TYPE_NAME].unique(), \"\\n\")\n",
    "\n",
    "print(\"Concentracoes medias de O3 calculadas no verão de 2009 em cada distrito de Nova Iorque\")\n",
    "df_o3_concentrations[df_o3_concentrations[DF_COLUMN_TIME_PERIOD] == 'Summer 2009']"
   ]
  },
  {
   "cell_type": "code",
   "execution_count": 92,
   "id": "482ac2a5",
   "metadata": {},
   "outputs": [
    {
     "name": "stdout",
     "output_type": "stream",
     "text": [
      "Informações sobre o dataframe com as concentrações de PM2.5\n",
      "(225, 12)\n",
      "['Winter 2014-15' 'Annual Average 2012' 'Summer 2009' 'Summer 2022'\n",
      " 'Annual Average 2017' 'Winter 2015-16' 'Summer 2015'\n",
      " 'Annual Average 2010' 'Winter 2019-20' 'Winter 2012-13' 'Summer 2019'\n",
      " 'Winter 2022-23' 'Annual Average 2023' 'Summer 2010' 'Summer 2011'\n",
      " 'Summer 2016' 'Winter 2020-21' 'Annual Average 2018' 'Winter 2021-22'\n",
      " 'Summer 2012' 'Winter 2018-19' 'Annual Average 2011' 'Winter 2009-10'\n",
      " 'Winter 2011-12' 'Annual Average 2015' 'Annual Average 2020'\n",
      " 'Annual Average 2019' 'Winter 2008-09' 'Annual Average 2022'\n",
      " 'Annual Average 2016' 'Summer 2017' 'Winter 2016-17' 'Summer 2013'\n",
      " 'Summer 2021' 'Summer 2023' 'Summer 2014' 'Annual Average 2009'\n",
      " 'Winter 2013-14' 'Annual Average 2021' 'Winter 2010-11'\n",
      " 'Annual Average 2013' 'Annual Average 2014' 'Summer 2018' 'Summer 2020'\n",
      " 'Winter 2017-18']\n",
      "['mcg/m3']\n",
      "['Mean']\n",
      "['Borough'] \n",
      "\n",
      "Concentracoes medias de PM2.5 calculadas no verão de 2009 em cada distrito de Nova Iorque\n"
     ]
    },
    {
     "data": {
      "text/html": [
       "<div>\n",
       "<style scoped>\n",
       "    .dataframe tbody tr th:only-of-type {\n",
       "        vertical-align: middle;\n",
       "    }\n",
       "\n",
       "    .dataframe tbody tr th {\n",
       "        vertical-align: top;\n",
       "    }\n",
       "\n",
       "    .dataframe thead th {\n",
       "        text-align: right;\n",
       "    }\n",
       "</style>\n",
       "<table border=\"1\" class=\"dataframe\">\n",
       "  <thead>\n",
       "    <tr style=\"text-align: right;\">\n",
       "      <th></th>\n",
       "      <th>Unique ID</th>\n",
       "      <th>Indicator ID</th>\n",
       "      <th>Name</th>\n",
       "      <th>Measure</th>\n",
       "      <th>Measure Info</th>\n",
       "      <th>Geo Type Name</th>\n",
       "      <th>Geo Join ID</th>\n",
       "      <th>Geo Place Name</th>\n",
       "      <th>Time Period</th>\n",
       "      <th>Start_Date</th>\n",
       "      <th>Data Value</th>\n",
       "      <th>Message</th>\n",
       "    </tr>\n",
       "  </thead>\n",
       "  <tbody>\n",
       "    <tr>\n",
       "      <th>3110</th>\n",
       "      <td>179570</td>\n",
       "      <td>365</td>\n",
       "      <td>Fine particles (PM 2.5)</td>\n",
       "      <td>Mean</td>\n",
       "      <td>mcg/m3</td>\n",
       "      <td>Borough</td>\n",
       "      <td>3</td>\n",
       "      <td>Manhattan</td>\n",
       "      <td>Summer 2009</td>\n",
       "      <td>06/01/2009</td>\n",
       "      <td>12.55</td>\n",
       "      <td>NaN</td>\n",
       "    </tr>\n",
       "    <tr>\n",
       "      <th>7705</th>\n",
       "      <td>179571</td>\n",
       "      <td>365</td>\n",
       "      <td>Fine particles (PM 2.5)</td>\n",
       "      <td>Mean</td>\n",
       "      <td>mcg/m3</td>\n",
       "      <td>Borough</td>\n",
       "      <td>4</td>\n",
       "      <td>Queens</td>\n",
       "      <td>Summer 2009</td>\n",
       "      <td>06/01/2009</td>\n",
       "      <td>10.27</td>\n",
       "      <td>NaN</td>\n",
       "    </tr>\n",
       "    <tr>\n",
       "      <th>14352</th>\n",
       "      <td>179569</td>\n",
       "      <td>365</td>\n",
       "      <td>Fine particles (PM 2.5)</td>\n",
       "      <td>Mean</td>\n",
       "      <td>mcg/m3</td>\n",
       "      <td>Borough</td>\n",
       "      <td>2</td>\n",
       "      <td>Brooklyn</td>\n",
       "      <td>Summer 2009</td>\n",
       "      <td>06/01/2009</td>\n",
       "      <td>10.92</td>\n",
       "      <td>NaN</td>\n",
       "    </tr>\n",
       "    <tr>\n",
       "      <th>14365</th>\n",
       "      <td>179568</td>\n",
       "      <td>365</td>\n",
       "      <td>Fine particles (PM 2.5)</td>\n",
       "      <td>Mean</td>\n",
       "      <td>mcg/m3</td>\n",
       "      <td>Borough</td>\n",
       "      <td>1</td>\n",
       "      <td>Bronx</td>\n",
       "      <td>Summer 2009</td>\n",
       "      <td>06/01/2009</td>\n",
       "      <td>10.73</td>\n",
       "      <td>NaN</td>\n",
       "    </tr>\n",
       "    <tr>\n",
       "      <th>14739</th>\n",
       "      <td>179572</td>\n",
       "      <td>365</td>\n",
       "      <td>Fine particles (PM 2.5)</td>\n",
       "      <td>Mean</td>\n",
       "      <td>mcg/m3</td>\n",
       "      <td>Borough</td>\n",
       "      <td>5</td>\n",
       "      <td>Staten Island</td>\n",
       "      <td>Summer 2009</td>\n",
       "      <td>06/01/2009</td>\n",
       "      <td>10.50</td>\n",
       "      <td>NaN</td>\n",
       "    </tr>\n",
       "  </tbody>\n",
       "</table>\n",
       "</div>"
      ],
      "text/plain": [
       "       Unique ID  Indicator ID                     Name Measure Measure Info  \\\n",
       "3110      179570           365  Fine particles (PM 2.5)    Mean       mcg/m3   \n",
       "7705      179571           365  Fine particles (PM 2.5)    Mean       mcg/m3   \n",
       "14352     179569           365  Fine particles (PM 2.5)    Mean       mcg/m3   \n",
       "14365     179568           365  Fine particles (PM 2.5)    Mean       mcg/m3   \n",
       "14739     179572           365  Fine particles (PM 2.5)    Mean       mcg/m3   \n",
       "\n",
       "      Geo Type Name  Geo Join ID Geo Place Name  Time Period  Start_Date  \\\n",
       "3110        Borough            3      Manhattan  Summer 2009  06/01/2009   \n",
       "7705        Borough            4         Queens  Summer 2009  06/01/2009   \n",
       "14352       Borough            2       Brooklyn  Summer 2009  06/01/2009   \n",
       "14365       Borough            1          Bronx  Summer 2009  06/01/2009   \n",
       "14739       Borough            5  Staten Island  Summer 2009  06/01/2009   \n",
       "\n",
       "       Data Value  Message  \n",
       "3110        12.55      NaN  \n",
       "7705        10.27      NaN  \n",
       "14352       10.92      NaN  \n",
       "14365       10.73      NaN  \n",
       "14739       10.50      NaN  "
      ]
     },
     "execution_count": 92,
     "metadata": {},
     "output_type": "execute_result"
    }
   ],
   "source": [
    "print(\"Informações sobre o dataframe com as concentrações de PM2.5\")\n",
    "print(df_pm25_concentrations.shape)\n",
    "print(df_pm25_concentrations[DF_COLUMN_TIME_PERIOD].unique())\n",
    "print(df_pm25_concentrations[DF_COLUMN_MEASURE_INFO].unique())\n",
    "print(df_pm25_concentrations[DF_COLUMN_MEASURE].unique())\n",
    "print(df_pm25_concentrations[DF_COLUMN_GEO_TYPE_NAME].unique(), \"\\n\")\n",
    "\n",
    "print(\"Concentracoes medias de PM2.5 calculadas no verão de 2009 em cada distrito de Nova Iorque\")\n",
    "df_pm25_concentrations[df_pm25_concentrations[DF_COLUMN_TIME_PERIOD] == 'Summer 2009']"
   ]
  },
  {
   "cell_type": "markdown",
   "id": "4f43587c",
   "metadata": {},
   "source": [
    "##### Como será encaminhado o pré-processamento para esta análise?\n",
    "\n",
    "- Em ambos mapeamentos, assegurar que as linhas escolhidas tenham `Geo Type Name` igual a Borough, pois esse tipo geográfico identifica os cinco distritos de Nova Iorque\n",
    "- Enquanto que as concentrações de PM2.5 possui um `Time Period` muito diversificado, as médias de O3 só possuem médias calculadas na estação do verão. Logo, a análise do periodo será feita pela estação do verão para ambos, entre os anos de 2009 a 2023"
   ]
  },
  {
   "cell_type": "markdown",
   "id": "ac02420a",
   "metadata": {},
   "source": [
    "### Análise de vulnerabilidade\n",
    "\n",
    "Analisar a vunerabilidade dos distritos da cidade de Nova Iorque quanto as internações de emergência decorrentes do Ozônio e PM2.5"
   ]
  },
  {
   "cell_type": "code",
   "execution_count": 93,
   "id": "4ba5f013",
   "metadata": {},
   "outputs": [],
   "source": [
    "df_asthma_visits_o3 = df[\n",
    "    (df[DF_COLUMN_NAME] == INDICATOR_NAME_ASTHMA_EMERGENCY_O3) &\n",
    "    (df[DF_COLUMN_GEO_TYPE_NAME] == INDICATOR_GEO_TYPE_NAME_BOROUGH)\n",
    "].copy()\n",
    "\n",
    "df_asthma_visits_pm25 = df[\n",
    "    (df[DF_COLUMN_NAME] == INDICATOR_NAME_ASTHMA_EMERGENCY_PM25)&\n",
    "    (df[DF_COLUMN_GEO_TYPE_NAME] == INDICATOR_GEO_TYPE_NAME_BOROUGH)\n",
    "].copy()"
   ]
  },
  {
   "cell_type": "code",
   "execution_count": 94,
   "id": "fa91abfe",
   "metadata": {},
   "outputs": [
    {
     "name": "stdout",
     "output_type": "stream",
     "text": [
      "Informações sobre o dataframe com as internacoes de emergencia decorrentes de O3\n"
     ]
    },
    {
     "data": {
      "text/plain": [
       "(50, 12)"
      ]
     },
     "execution_count": 94,
     "metadata": {},
     "output_type": "execute_result"
    }
   ],
   "source": [
    "print(\"Informações sobre o dataframe com as internacoes de emergencia decorrentes de O3\")\n",
    "df_asthma_visits_o3.shape"
   ]
  },
  {
   "cell_type": "code",
   "execution_count": 95,
   "id": "7a6f826a",
   "metadata": {},
   "outputs": [
    {
     "name": "stdout",
     "output_type": "stream",
     "text": [
      "Informações sobre o dataframe com as internacoes de emergencia decorrentes de PM2.5\n"
     ]
    },
    {
     "data": {
      "text/plain": [
       "(50, 12)"
      ]
     },
     "execution_count": 95,
     "metadata": {},
     "output_type": "execute_result"
    }
   ],
   "source": [
    "print(\"Informações sobre o dataframe com as internacoes de emergencia decorrentes de PM2.5\")\n",
    "df_asthma_visits_pm25.shape"
   ]
  },
  {
   "cell_type": "markdown",
   "id": "ac6dac07",
   "metadata": {},
   "source": [
    "##### Como será encaminhado o pré-processamento para esta análise?"
   ]
  },
  {
   "cell_type": "markdown",
   "id": "e1698b57",
   "metadata": {},
   "source": [
    "### Impacto das emissões de caldeiras\n",
    "\n",
    "> \"Boiler emissions\" (emissões de caldeiras, em português) referem-se aos poluentes liberados na atmosfera por caldeiras durante a queima de combustíveis para geração de calor, vapor ou eletricidade.\n",
    "\n",
    "Mapear a quantidade de emissões de caldeiras por distrito da cidade de Nova Iorque, para assim poder ter noção em como a indústria e o comércio está impactando esses distritos."
   ]
  },
  {
   "cell_type": "code",
   "execution_count": null,
   "id": "fcbda1a3",
   "metadata": {},
   "outputs": [],
   "source": []
  }
 ],
 "metadata": {
  "kernelspec": {
   "display_name": "dc",
   "language": "python",
   "name": "python3"
  },
  "language_info": {
   "codemirror_mode": {
    "name": "ipython",
    "version": 3
   },
   "file_extension": ".py",
   "mimetype": "text/x-python",
   "name": "python",
   "nbconvert_exporter": "python",
   "pygments_lexer": "ipython3",
   "version": "3.12.3"
  }
 },
 "nbformat": 4,
 "nbformat_minor": 5
}
