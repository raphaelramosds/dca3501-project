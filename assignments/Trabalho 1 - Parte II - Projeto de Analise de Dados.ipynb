{
 "cells": [
  {
   "cell_type": "markdown",
   "metadata": {},
   "source": [
    "# Trabalho 1 - Parte II - Projeto de Análise de Dados\n",
    "\n",
    "## Componentes\n",
    "\n",
    "- Raphael Ramos\n",
    "- Vitor Gabriel"
   ]
  },
  {
   "cell_type": "markdown",
   "metadata": {},
   "source": [
    "## Importações de módulos"
   ]
  },
  {
   "cell_type": "code",
   "execution_count": 17,
   "metadata": {},
   "outputs": [],
   "source": [
    "import sys\n",
    "sys.path.append('../')\n",
    "\n",
    "import numpy as np\n",
    "import pandas as pd\n",
    "import matplotlib.pyplot as plt\n",
    "import ipywidgets as widgets\n",
    "\n",
    "from IPython.display import display, clear_output\n",
    "from utils.charts import plot_bar\n",
    "from utils.fmt import fmt_date\n",
    "\n",
    "data_path = '../data'"
   ]
  },
  {
   "cell_type": "markdown",
   "metadata": {},
   "source": [
    "## Importar conjuntos de dados"
   ]
  },
  {
   "cell_type": "code",
   "execution_count": 18,
   "metadata": {},
   "outputs": [],
   "source": [
    "# Load both air quality and weather datasets\n",
    "df_air_quality = pd.read_csv('{}/india_air_quality_daily_2015_to_2020.csv'.format(data_path))\n",
    "df_weather = pd.read_csv('{}/india_weather_daily_data_combined_2010_to_2019.csv'.format(data_path))"
   ]
  },
  {
   "cell_type": "markdown",
   "metadata": {},
   "source": [
    "\n",
    "## União dos conjuntos de dados\n",
    "\n",
    "Unir os dois conjuntos de dados (qualide do ar e clima), considerando a cidade e a data como a chave de união"
   ]
  },
  {
   "cell_type": "code",
   "execution_count": 19,
   "metadata": {},
   "outputs": [
    {
     "name": "stdout",
     "output_type": "stream",
     "text": [
      "<class 'pandas.core.frame.DataFrame'>\n",
      "RangeIndex: 12774 entries, 0 to 12773\n",
      "Data columns (total 38 columns):\n",
      " #   Column                       Non-Null Count  Dtype  \n",
      "---  ------                       --------------  -----  \n",
      " 0   City                         12774 non-null  object \n",
      " 1   Date                         12774 non-null  object \n",
      " 2   PM2.5                        10247 non-null  float64\n",
      " 3   PM10                         4634 non-null   float64\n",
      " 4   NO                           10556 non-null  float64\n",
      " 5   NO2                          10596 non-null  float64\n",
      " 6   NOx                          10724 non-null  float64\n",
      " 7   NH3                          6145 non-null   float64\n",
      " 8   CO                           11860 non-null  float64\n",
      " 9   SO2                          10353 non-null  float64\n",
      " 10  O3                           10334 non-null  float64\n",
      " 11  Benzene                      11317 non-null  float64\n",
      " 12  Toluene                      10693 non-null  float64\n",
      " 13  Xylene                       5739 non-null   float64\n",
      " 14  AQI                          10116 non-null  float64\n",
      " 15  AQI_Bucket                   10116 non-null  object \n",
      " 16  city_name                    12774 non-null  object \n",
      " 17  datetime                     12774 non-null  object \n",
      " 18  weather_code                 12774 non-null  float64\n",
      " 19  temperature_2m_max           12774 non-null  float64\n",
      " 20  temperature_2m_min           12774 non-null  float64\n",
      " 21  temperature_2m_mean          12774 non-null  float64\n",
      " 22  apparent_temperature_max     12774 non-null  float64\n",
      " 23  apparent_temperature_min     12774 non-null  float64\n",
      " 24  apparent_temperature_mean    12774 non-null  float64\n",
      " 25  sunrise                      12774 non-null  object \n",
      " 26  sunset                       12774 non-null  object \n",
      " 27  daylight_duration            12774 non-null  float64\n",
      " 28  sunshine_duration            12774 non-null  float64\n",
      " 29  precipitation_sum            12774 non-null  float64\n",
      " 30  rain_sum                     12774 non-null  float64\n",
      " 31  snowfall_sum                 12774 non-null  float64\n",
      " 32  precipitation_hours          12774 non-null  float64\n",
      " 33  wind_speed_10m_max           12774 non-null  float64\n",
      " 34  wind_gusts_10m_max           12774 non-null  float64\n",
      " 35  wind_direction_10m_dominant  12774 non-null  float64\n",
      " 36  shortwave_radiation_sum      12774 non-null  float64\n",
      " 37  et0_fao_evapotranspiration   12774 non-null  float64\n",
      "dtypes: float64(31), object(7)\n",
      "memory usage: 3.7+ MB\n"
     ]
    }
   ],
   "source": [
    "common_cities = np.intersect1d(df_weather['city_name'].unique(), df_air_quality['City'].unique())\n",
    "\n",
    "# Filter common cities\n",
    "df_air_quality_c = df_air_quality[df_air_quality['City'].isin(common_cities)].copy()\n",
    "df_weather_c = df_weather[df_weather['city_name'].isin(common_cities)].copy()\n",
    "\n",
    "# Join dataframes with the inner strategy, so we have not null dates for both\n",
    "df = pd.merge(df_air_quality_c, df_weather_c, how=\"inner\", left_on=[\"City\", \"Date\"], right_on=[\"city_name\", \"datetime\"])\n",
    "df.info()"
   ]
  },
  {
   "cell_type": "code",
   "execution_count": 20,
   "metadata": {},
   "outputs": [
    {
     "data": {
      "application/vnd.jupyter.widget-view+json": {
       "model_id": "92a1ad170e5c48608e53fde8b5783f24",
       "version_major": 2,
       "version_minor": 0
      },
      "text/plain": [
       "Dropdown(description='Cidade', options=('Ahmedabad', 'Amritsar', 'Chennai', 'Delhi', 'Jaipur', 'Lucknow', 'Mum…"
      ]
     },
     "metadata": {},
     "output_type": "display_data"
    },
    {
     "data": {
      "application/vnd.jupyter.widget-view+json": {
       "model_id": "0529e27c54e04c08a185e8a40f598c53",
       "version_major": 2,
       "version_minor": 0
      },
      "text/plain": [
       "Output()"
      ]
     },
     "metadata": {},
     "output_type": "display_data"
    }
   ],
   "source": [
    "def get_date_range_text(city):\n",
    "    try:\n",
    "        df_filtered_by_city = df[df['City'] == city].copy()\n",
    "        return 'Em {}, há dados de {} até {}.'.format(\n",
    "            city,\n",
    "            fmt_date(df_filtered_by_city['Date'].min()),\n",
    "            fmt_date(df_filtered_by_city['Date'].max()),\n",
    "        )\n",
    "    except Exception as e:\n",
    "        return f\"Erro ao buscar dados para {city}: {e}\"\n",
    "\n",
    "def update_output(change):\n",
    "    with output:\n",
    "        clear_output()\n",
    "        print(get_date_range_text(change['new']))   \n",
    "    \n",
    "city_dropdown = widgets.Dropdown(\n",
    "    options=common_cities,\n",
    "    value=common_cities[0],\n",
    "    description='Cidade'\n",
    ")\n",
    "output = widgets.Output()\n",
    "\n",
    "city_dropdown.observe(update_output, names='value')\n",
    "\n",
    "display(city_dropdown, output)\n",
    "update_output({'new': city_dropdown.value})"
   ]
  }
 ],
 "metadata": {
  "kernelspec": {
   "display_name": "dc",
   "language": "python",
   "name": "python3"
  },
  "language_info": {
   "codemirror_mode": {
    "name": "ipython",
    "version": 3
   },
   "file_extension": ".py",
   "mimetype": "text/x-python",
   "name": "python",
   "nbconvert_exporter": "python",
   "pygments_lexer": "ipython3",
   "version": "3.10.12"
  }
 },
 "nbformat": 4,
 "nbformat_minor": 2
}
