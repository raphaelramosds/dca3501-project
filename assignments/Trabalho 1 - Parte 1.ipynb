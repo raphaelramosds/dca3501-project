{
 "cells": [
  {
   "cell_type": "markdown",
   "id": "95e49db8",
   "metadata": {},
   "source": [
    "# Trabalho 1 - Parte I - Projeto de Análise de Dados"
   ]
  },
  {
   "cell_type": "markdown",
   "id": "cabe3983",
   "metadata": {},
   "source": [
    "## Dataset escolhido\n",
    "\n",
    "*NYC OpenData Air Quality*. Disponível em: [https://data.cityofnewyork.us/Environment/Air-Quality/c3uy-2p5r/about_data](https://data.cityofnewyork.us/Environment/Air-Quality/c3uy-2p5r/about_data)"
   ]
  },
  {
   "cell_type": "markdown",
   "id": "8b372f72",
   "metadata": {},
   "source": [
    "## Explicação do dataset\n",
    "\n",
    "O *NYC OpenData Air Quality* reúne registros de diversos indicadores relacionados à qualidade do ar na cidade de Nova Iorque (EUA).\n",
    "\n",
    "Para os projetos que serão desenvolvidos nesta disciplina, serão aproveitados especialmente os indicadores ligados à área da saúde, como a concentração de substâncias químicas na atmosfera, a frequência de casos de doenças respiratórias e cardíacas associadas a essas substâncias, além do número de hospitalizações e óbitos decorrentes dessas condições.\n",
    "\n",
    "O dataset possui aproximadamente 18,9 mil registros, distribuídos em 12 colunas.\n",
    "\n",
    "Na tabela a seguir estão as descrições de cada uma dessas colunas\n",
    "\n",
    "| Coluna             | Descrição                                                                                             | Tipo                   |\n",
    "|--------------------|-------------------------------------------------------------------------------------------------------|------------------------|\n",
    "| `Unique ID`        | Identificador único do registro                                                                       | Text                   |\n",
    "| `Indicator ID`     | Identificador do tipo de valor medido ao longo do tempo e do espaço                                   | Number                 |\n",
    "| `Name`             | Nome do indicador                                                                                     | Text                   |\n",
    "| `Measure`          | Forma como o indicador é medido                                                                       | Text                   |\n",
    "| `Measure Info`     | Informações (como unidades) sobre a medida                                                            | Text                   |\n",
    "| `Geo Type Name`    | Tipo de geografia; 'UHF' refere-se a bairros do United Hospital Fund; exemplos: Citywide, Borough etc.| Text                   |\n",
    "| `Geo Join ID`      | Identificador da área geográfica do bairro, usado para criar mapas temáticos                          | Text                   |\n",
    "| `Geo Place Name`   | Nome do bairro                                                                                        | Text                   |\n",
    "| `Time Period`      | Descrição do período ao qual os dados se referem; pode ser um ano, intervalo de anos ou estação       | Text                   |\n",
    "| `Start_Date`       | Valor de data para o início do `time_period`; sempre uma data; útil para séries temporais             | Floating Timestamp     |\n",
    "| `Data Value`       | Valor real dos dados para este indicador, medida, local e tempo                                       | Number                 |\n",
    "| `Message`          | Notas aplicáveis ao `data_value`; ex: se uma estimativa é baseada em números pequenos                 | Text                   |\n",
    "\n"
   ]
  },
  {
   "cell_type": "code",
   "execution_count": 11,
   "id": "b96c71f0",
   "metadata": {},
   "outputs": [
    {
     "name": "stdout",
     "output_type": "stream",
     "text": [
      "(18862, 12)\n"
     ]
    },
    {
     "data": {
      "text/html": [
       "<div>\n",
       "<style scoped>\n",
       "    .dataframe tbody tr th:only-of-type {\n",
       "        vertical-align: middle;\n",
       "    }\n",
       "\n",
       "    .dataframe tbody tr th {\n",
       "        vertical-align: top;\n",
       "    }\n",
       "\n",
       "    .dataframe thead th {\n",
       "        text-align: right;\n",
       "    }\n",
       "</style>\n",
       "<table border=\"1\" class=\"dataframe\">\n",
       "  <thead>\n",
       "    <tr style=\"text-align: right;\">\n",
       "      <th></th>\n",
       "      <th>Unique ID</th>\n",
       "      <th>Indicator ID</th>\n",
       "      <th>Name</th>\n",
       "      <th>Measure</th>\n",
       "      <th>Measure Info</th>\n",
       "      <th>Geo Type Name</th>\n",
       "      <th>Geo Join ID</th>\n",
       "      <th>Geo Place Name</th>\n",
       "      <th>Time Period</th>\n",
       "      <th>Start_Date</th>\n",
       "      <th>Data Value</th>\n",
       "      <th>Message</th>\n",
       "    </tr>\n",
       "  </thead>\n",
       "  <tbody>\n",
       "    <tr>\n",
       "      <th>0</th>\n",
       "      <td>336867</td>\n",
       "      <td>375</td>\n",
       "      <td>Nitrogen dioxide (NO2)</td>\n",
       "      <td>Mean</td>\n",
       "      <td>ppb</td>\n",
       "      <td>CD</td>\n",
       "      <td>407</td>\n",
       "      <td>Flushing and Whitestone (CD7)</td>\n",
       "      <td>Winter 2014-15</td>\n",
       "      <td>12/01/2014</td>\n",
       "      <td>23.97</td>\n",
       "      <td>NaN</td>\n",
       "    </tr>\n",
       "    <tr>\n",
       "      <th>1</th>\n",
       "      <td>336741</td>\n",
       "      <td>375</td>\n",
       "      <td>Nitrogen dioxide (NO2)</td>\n",
       "      <td>Mean</td>\n",
       "      <td>ppb</td>\n",
       "      <td>CD</td>\n",
       "      <td>107</td>\n",
       "      <td>Upper West Side (CD7)</td>\n",
       "      <td>Winter 2014-15</td>\n",
       "      <td>12/01/2014</td>\n",
       "      <td>27.42</td>\n",
       "      <td>NaN</td>\n",
       "    </tr>\n",
       "    <tr>\n",
       "      <th>2</th>\n",
       "      <td>550157</td>\n",
       "      <td>375</td>\n",
       "      <td>Nitrogen dioxide (NO2)</td>\n",
       "      <td>Mean</td>\n",
       "      <td>ppb</td>\n",
       "      <td>CD</td>\n",
       "      <td>414</td>\n",
       "      <td>Rockaway and Broad Channel (CD14)</td>\n",
       "      <td>Annual Average 2017</td>\n",
       "      <td>01/01/2017</td>\n",
       "      <td>12.55</td>\n",
       "      <td>NaN</td>\n",
       "    </tr>\n",
       "    <tr>\n",
       "      <th>3</th>\n",
       "      <td>412802</td>\n",
       "      <td>375</td>\n",
       "      <td>Nitrogen dioxide (NO2)</td>\n",
       "      <td>Mean</td>\n",
       "      <td>ppb</td>\n",
       "      <td>CD</td>\n",
       "      <td>407</td>\n",
       "      <td>Flushing and Whitestone (CD7)</td>\n",
       "      <td>Winter 2015-16</td>\n",
       "      <td>12/01/2015</td>\n",
       "      <td>22.63</td>\n",
       "      <td>NaN</td>\n",
       "    </tr>\n",
       "    <tr>\n",
       "      <th>4</th>\n",
       "      <td>412803</td>\n",
       "      <td>375</td>\n",
       "      <td>Nitrogen dioxide (NO2)</td>\n",
       "      <td>Mean</td>\n",
       "      <td>ppb</td>\n",
       "      <td>CD</td>\n",
       "      <td>407</td>\n",
       "      <td>Flushing and Whitestone (CD7)</td>\n",
       "      <td>Summer 2016</td>\n",
       "      <td>06/01/2016</td>\n",
       "      <td>14.00</td>\n",
       "      <td>NaN</td>\n",
       "    </tr>\n",
       "  </tbody>\n",
       "</table>\n",
       "</div>"
      ],
      "text/plain": [
       "   Unique ID  Indicator ID                    Name Measure Measure Info  \\\n",
       "0     336867           375  Nitrogen dioxide (NO2)    Mean          ppb   \n",
       "1     336741           375  Nitrogen dioxide (NO2)    Mean          ppb   \n",
       "2     550157           375  Nitrogen dioxide (NO2)    Mean          ppb   \n",
       "3     412802           375  Nitrogen dioxide (NO2)    Mean          ppb   \n",
       "4     412803           375  Nitrogen dioxide (NO2)    Mean          ppb   \n",
       "\n",
       "  Geo Type Name  Geo Join ID                     Geo Place Name  \\\n",
       "0            CD          407      Flushing and Whitestone (CD7)   \n",
       "1            CD          107              Upper West Side (CD7)   \n",
       "2            CD          414  Rockaway and Broad Channel (CD14)   \n",
       "3            CD          407      Flushing and Whitestone (CD7)   \n",
       "4            CD          407      Flushing and Whitestone (CD7)   \n",
       "\n",
       "           Time Period  Start_Date  Data Value  Message  \n",
       "0       Winter 2014-15  12/01/2014       23.97      NaN  \n",
       "1       Winter 2014-15  12/01/2014       27.42      NaN  \n",
       "2  Annual Average 2017  01/01/2017       12.55      NaN  \n",
       "3       Winter 2015-16  12/01/2015       22.63      NaN  \n",
       "4          Summer 2016  06/01/2016       14.00      NaN  "
      ]
     },
     "execution_count": 11,
     "metadata": {},
     "output_type": "execute_result"
    }
   ],
   "source": [
    "import pandas as pd\n",
    "\n",
    "df = pd.read_csv('../data/Air_Quality.csv', sep=',', decimal='.')\n",
    "\n",
    "print(df.shape)\n",
    "\n",
    "df.head()"
   ]
  },
  {
   "cell_type": "markdown",
   "id": "850565d6",
   "metadata": {},
   "source": [
    "## Investigação de dados faltantes\n",
    "\n",
    "Os dados faltantes do DataFrame obtido do CSV desse dataset se concentram apenas na coluna `Message`, que não interfere em análises futuras."
   ]
  },
  {
   "cell_type": "code",
   "execution_count": 9,
   "id": "516c6d6f",
   "metadata": {},
   "outputs": [
    {
     "data": {
      "text/plain": [
       "Unique ID             0\n",
       "Indicator ID          0\n",
       "Name                  0\n",
       "Measure               0\n",
       "Measure Info          0\n",
       "Geo Type Name         0\n",
       "Geo Join ID           0\n",
       "Geo Place Name        0\n",
       "Time Period           0\n",
       "Start_Date            0\n",
       "Data Value            0\n",
       "Message           18862\n",
       "dtype: int64"
      ]
     },
     "execution_count": 9,
     "metadata": {},
     "output_type": "execute_result"
    }
   ],
   "source": [
    "df.isna().sum()"
   ]
  },
  {
   "cell_type": "markdown",
   "id": "7c2756ed",
   "metadata": {},
   "source": [
    "## Análises pretendidas"
   ]
  }
 ],
 "metadata": {
  "kernelspec": {
   "display_name": "dc",
   "language": "python",
   "name": "python3"
  },
  "language_info": {
   "codemirror_mode": {
    "name": "ipython",
    "version": 3
   },
   "file_extension": ".py",
   "mimetype": "text/x-python",
   "name": "python",
   "nbconvert_exporter": "python",
   "pygments_lexer": "ipython3",
   "version": "3.12.3"
  }
 },
 "nbformat": 4,
 "nbformat_minor": 5
}
