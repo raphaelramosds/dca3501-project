{
 "cells": [
  {
   "cell_type": "markdown",
   "id": "9842d9ce",
   "metadata": {},
   "source": [
    "# Trabalho 2 - Dashboard\n",
    "\n",
    "## Componentes\n",
    "\n",
    "- Raphael Ramos\n",
    "- Vitor Gabriel"
   ]
  },
  {
   "cell_type": "code",
   "execution_count": null,
   "id": "6cf272c2",
   "metadata": {},
   "outputs": [],
   "source": [
    "import sys\n",
    "sys.path.append('../')\n",
    "\n",
    "import numpy as np\n",
    "import pandas as pd\n",
    "import seaborn as sns\n",
    "import matplotlib.pyplot as plt\n",
    "\n",
    "data_path = '../data'"
   ]
  },
  {
   "cell_type": "markdown",
   "id": "94ad6b9c",
   "metadata": {},
   "source": [
    "## Objetivo\n",
    "\n",
    "Este notebook visa exportar os conjuntos de dados que serão utilizados para os gráficos interativos do Dashboard que será apresentado numa página web, assim como apresentar as suas implementações utilizando o pacote Plotly"
   ]
  }
 ],
 "metadata": {
  "kernelspec": {
   "display_name": "dca3501",
   "language": "python",
   "name": "python3"
  },
  "language_info": {
   "name": "python",
   "version": "3.12.3"
  }
 },
 "nbformat": 4,
 "nbformat_minor": 5
}
