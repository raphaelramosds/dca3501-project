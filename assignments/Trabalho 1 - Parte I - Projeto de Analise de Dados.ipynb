{
 "cells": [
  {
   "cell_type": "markdown",
   "id": "95e49db8",
   "metadata": {},
   "source": [
    "# Trabalho 1 - Parte I - Projeto de Análise de Dados"
   ]
  },
  {
   "cell_type": "markdown",
   "id": "cabe3983",
   "metadata": {},
   "source": [
    "## Dataset escolhido\n",
    "\n",
    "*Air Quality Data in India (2015 - 2020)*. Disponível em: https://www.kaggle.com/datasets/rohanrao/air-quality-data-in-india/data"
   ]
  },
  {
   "cell_type": "markdown",
   "id": "8b372f72",
   "metadata": {},
   "source": [
    "## Explicação do dataset\n",
    "\n",
    "O conjunto de dados contém informações sobre a qualidade do ar e o IQA (Índice de Qualidade do Ar) em nível horário e diário de várias estações em diversas cidades da Índia.\n",
    "\n"
   ]
  },
  {
   "cell_type": "markdown",
   "id": "850565d6",
   "metadata": {},
   "source": [
    "## Investigação de dados faltantes"
   ]
  },
  {
   "cell_type": "code",
   "execution_count": null,
   "id": "516c6d6f",
   "metadata": {},
   "outputs": [],
   "source": []
  },
  {
   "cell_type": "markdown",
   "id": "7c2756ed",
   "metadata": {},
   "source": [
    "## Análises pretendidas"
   ]
  },
  {
   "cell_type": "code",
   "execution_count": null,
   "id": "26b11ac7",
   "metadata": {},
   "outputs": [],
   "source": []
  }
 ],
 "metadata": {
  "kernelspec": {
   "display_name": "dc",
   "language": "python",
   "name": "python3"
  },
  "language_info": {
   "codemirror_mode": {
    "name": "ipython",
    "version": 3
   },
   "file_extension": ".py",
   "mimetype": "text/x-python",
   "name": "python",
   "nbconvert_exporter": "python",
   "pygments_lexer": "ipython3",
   "version": "3.12.3"
  }
 },
 "nbformat": 4,
 "nbformat_minor": 5
}
