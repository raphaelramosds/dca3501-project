{
 "cells": [
  {
   "cell_type": "markdown",
   "metadata": {},
   "source": [
    "# New York Air Quality"
   ]
  },
  {
   "cell_type": "markdown",
   "metadata": {},
   "source": [
    "## Read dataset"
   ]
  },
  {
   "cell_type": "code",
   "execution_count": 2,
   "metadata": {},
   "outputs": [
    {
     "data": {
      "text/html": [
       "<div>\n",
       "<style scoped>\n",
       "    .dataframe tbody tr th:only-of-type {\n",
       "        vertical-align: middle;\n",
       "    }\n",
       "\n",
       "    .dataframe tbody tr th {\n",
       "        vertical-align: top;\n",
       "    }\n",
       "\n",
       "    .dataframe thead th {\n",
       "        text-align: right;\n",
       "    }\n",
       "</style>\n",
       "<table border=\"1\" class=\"dataframe\">\n",
       "  <thead>\n",
       "    <tr style=\"text-align: right;\">\n",
       "      <th></th>\n",
       "      <th>Unique ID</th>\n",
       "      <th>Indicator ID</th>\n",
       "      <th>Name</th>\n",
       "      <th>Measure</th>\n",
       "      <th>Measure Info</th>\n",
       "      <th>Geo Type Name</th>\n",
       "      <th>Geo Join ID</th>\n",
       "      <th>Geo Place Name</th>\n",
       "      <th>Time Period</th>\n",
       "      <th>Start_Date</th>\n",
       "      <th>Data Value</th>\n",
       "      <th>Message</th>\n",
       "    </tr>\n",
       "  </thead>\n",
       "  <tbody>\n",
       "    <tr>\n",
       "      <th>0</th>\n",
       "      <td>336867</td>\n",
       "      <td>375</td>\n",
       "      <td>Nitrogen dioxide (NO2)</td>\n",
       "      <td>Mean</td>\n",
       "      <td>ppb</td>\n",
       "      <td>CD</td>\n",
       "      <td>407</td>\n",
       "      <td>Flushing and Whitestone (CD7)</td>\n",
       "      <td>Winter 2014-15</td>\n",
       "      <td>12/01/2014</td>\n",
       "      <td>23.97</td>\n",
       "      <td>NaN</td>\n",
       "    </tr>\n",
       "    <tr>\n",
       "      <th>1</th>\n",
       "      <td>336741</td>\n",
       "      <td>375</td>\n",
       "      <td>Nitrogen dioxide (NO2)</td>\n",
       "      <td>Mean</td>\n",
       "      <td>ppb</td>\n",
       "      <td>CD</td>\n",
       "      <td>107</td>\n",
       "      <td>Upper West Side (CD7)</td>\n",
       "      <td>Winter 2014-15</td>\n",
       "      <td>12/01/2014</td>\n",
       "      <td>27.42</td>\n",
       "      <td>NaN</td>\n",
       "    </tr>\n",
       "    <tr>\n",
       "      <th>2</th>\n",
       "      <td>550157</td>\n",
       "      <td>375</td>\n",
       "      <td>Nitrogen dioxide (NO2)</td>\n",
       "      <td>Mean</td>\n",
       "      <td>ppb</td>\n",
       "      <td>CD</td>\n",
       "      <td>414</td>\n",
       "      <td>Rockaway and Broad Channel (CD14)</td>\n",
       "      <td>Annual Average 2017</td>\n",
       "      <td>01/01/2017</td>\n",
       "      <td>12.55</td>\n",
       "      <td>NaN</td>\n",
       "    </tr>\n",
       "    <tr>\n",
       "      <th>3</th>\n",
       "      <td>412802</td>\n",
       "      <td>375</td>\n",
       "      <td>Nitrogen dioxide (NO2)</td>\n",
       "      <td>Mean</td>\n",
       "      <td>ppb</td>\n",
       "      <td>CD</td>\n",
       "      <td>407</td>\n",
       "      <td>Flushing and Whitestone (CD7)</td>\n",
       "      <td>Winter 2015-16</td>\n",
       "      <td>12/01/2015</td>\n",
       "      <td>22.63</td>\n",
       "      <td>NaN</td>\n",
       "    </tr>\n",
       "    <tr>\n",
       "      <th>4</th>\n",
       "      <td>412803</td>\n",
       "      <td>375</td>\n",
       "      <td>Nitrogen dioxide (NO2)</td>\n",
       "      <td>Mean</td>\n",
       "      <td>ppb</td>\n",
       "      <td>CD</td>\n",
       "      <td>407</td>\n",
       "      <td>Flushing and Whitestone (CD7)</td>\n",
       "      <td>Summer 2016</td>\n",
       "      <td>06/01/2016</td>\n",
       "      <td>14.00</td>\n",
       "      <td>NaN</td>\n",
       "    </tr>\n",
       "  </tbody>\n",
       "</table>\n",
       "</div>"
      ],
      "text/plain": [
       "   Unique ID  Indicator ID                    Name Measure Measure Info  \\\n",
       "0     336867           375  Nitrogen dioxide (NO2)    Mean          ppb   \n",
       "1     336741           375  Nitrogen dioxide (NO2)    Mean          ppb   \n",
       "2     550157           375  Nitrogen dioxide (NO2)    Mean          ppb   \n",
       "3     412802           375  Nitrogen dioxide (NO2)    Mean          ppb   \n",
       "4     412803           375  Nitrogen dioxide (NO2)    Mean          ppb   \n",
       "\n",
       "  Geo Type Name  Geo Join ID                     Geo Place Name  \\\n",
       "0            CD          407      Flushing and Whitestone (CD7)   \n",
       "1            CD          107              Upper West Side (CD7)   \n",
       "2            CD          414  Rockaway and Broad Channel (CD14)   \n",
       "3            CD          407      Flushing and Whitestone (CD7)   \n",
       "4            CD          407      Flushing and Whitestone (CD7)   \n",
       "\n",
       "           Time Period  Start_Date  Data Value  Message  \n",
       "0       Winter 2014-15  12/01/2014       23.97      NaN  \n",
       "1       Winter 2014-15  12/01/2014       27.42      NaN  \n",
       "2  Annual Average 2017  01/01/2017       12.55      NaN  \n",
       "3       Winter 2015-16  12/01/2015       22.63      NaN  \n",
       "4          Summer 2016  06/01/2016       14.00      NaN  "
      ]
     },
     "execution_count": 2,
     "metadata": {},
     "output_type": "execute_result"
    }
   ],
   "source": [
    "import pandas as pd\n",
    "\n",
    "df = pd.read_csv('./data/Air_Quality.csv', sep=',', decimal='.')\n",
    "\n",
    "df.head(5)\n"
   ]
  },
  {
   "cell_type": "markdown",
   "metadata": {},
   "source": [
    "## Investigating columns"
   ]
  },
  {
   "cell_type": "markdown",
   "metadata": {},
   "source": [
    "### Data classification\n",
    "\n",
    "It is not a homogeneous dataset because it has a vast variety of data types, such as\n",
    "\n",
    "- Diseases frequency (asthma, cardiac and respiratory deaths, etc.)\n",
    "- Inorganic chemical concentration in the air (O3, NO2, PM 2.5, Benzene)\n",
    "- Emission of poluents (SO2, NOx, PM2.5)"
   ]
  },
  {
   "cell_type": "code",
   "execution_count": 3,
   "metadata": {},
   "outputs": [
    {
     "data": {
      "text/plain": [
       "Name\n",
       "Nitrogen dioxide (NO2)                                    6345\n",
       "Fine particles (PM 2.5)                                   6345\n",
       "Ozone (O3)                                                2115\n",
       "Asthma emergency departments visits due to Ozone           480\n",
       "Asthma hospitalizations due to Ozone                       480\n",
       "Asthma emergency department visits due to PM2.5            480\n",
       "Annual vehicle miles traveled (cars)                       321\n",
       "Annual vehicle miles traveled                              321\n",
       "Annual vehicle miles traveled (trucks)                     321\n",
       "Cardiac and respiratory deaths due to Ozone                240\n",
       "Cardiovascular hospitalizations due to PM2.5 (age 40+)     240\n",
       "Respiratory hospitalizations due to PM2.5 (age 20+)        240\n",
       "Deaths due to PM2.5                                        240\n",
       "Outdoor Air Toxics - Formaldehyde                          203\n",
       "Outdoor Air Toxics - Benzene                               203\n",
       "Boiler Emissions- Total SO2 Emissions                       96\n",
       "Boiler Emissions- Total NOx Emissions                       96\n",
       "Boiler Emissions- Total PM2.5 Emissions                     96\n",
       "Name: Name, dtype: int64"
      ]
     },
     "execution_count": 3,
     "metadata": {},
     "output_type": "execute_result"
    }
   ],
   "source": [
    "df['Name']\\\n",
    "    .groupby(df['Name'])\\\n",
    "    .count()\\\n",
    "    .sort_values(ascending=False)"
   ]
  },
  {
   "cell_type": "markdown",
   "metadata": {},
   "source": [
    "### Measure strategies\n",
    "\n",
    "It's important to notice that there are different measures strategies on this dataset. \n",
    "\n",
    "So, one should assure that you're performing operations with data that has the same `Measure` and the same `Measure Info`"
   ]
  },
  {
   "cell_type": "code",
   "execution_count": 4,
   "metadata": {},
   "outputs": [
    {
     "data": {
      "text/plain": [
       "Measure\n",
       "Mean                                    14805\n",
       "Million miles                             963\n",
       "Estimated annual rate                     720\n",
       "Estimated annual rate (age 18+)           720\n",
       "Estimated annual rate (under age 18)      720\n",
       "Annual average concentration              406\n",
       "Number per km2                            288\n",
       "Estimated annual rate (age 30+)           240\n",
       "Name: Measure, dtype: int64"
      ]
     },
     "execution_count": 4,
     "metadata": {},
     "output_type": "execute_result"
    }
   ],
   "source": [
    "df['Measure']\\\n",
    "    .groupby(df['Measure'])\\\n",
    "    .count()\\\n",
    "    .sort_values(ascending=False)"
   ]
  },
  {
   "cell_type": "code",
   "execution_count": 5,
   "metadata": {},
   "outputs": [
    {
     "data": {
      "text/plain": [
       "Measure Info\n",
       "ppb                     8460\n",
       "mcg/m3                  6345\n",
       "per 100,000 adults      1440\n",
       "per square mile          963\n",
       "per 100,000 children     720\n",
       "Âµg/m3                   406\n",
       "number                   288\n",
       "per 100,000              240\n",
       "Name: Measure Info, dtype: int64"
      ]
     },
     "execution_count": 5,
     "metadata": {},
     "output_type": "execute_result"
    }
   ],
   "source": [
    "df['Measure Info']\\\n",
    "    .groupby(df['Measure Info'])\\\n",
    "    .count()\\\n",
    "    .sort_values(ascending=False)"
   ]
  },
  {
   "cell_type": "markdown",
   "metadata": {},
   "source": [
    "### Geotypes\n",
    "\n",
    "Here is an explanation of each geotype of this dataset\n",
    "\n",
    "- UHF42 (United Hospital Fund) refers to an aglomerate of 42 public health areas\n",
    "- CD refers to a community district\n",
    "- UHF34 is the same as UHF42, but with 34 health areas\n",
    "- Borough refers to a New York's district (Bronx, Brooklyn, Manhattan, Queens, and Staten Island)\n",
    "- City wide"
   ]
  },
  {
   "cell_type": "code",
   "execution_count": 6,
   "metadata": {},
   "outputs": [
    {
     "data": {
      "text/plain": [
       "Geo Type Name\n",
       "UHF42       7392\n",
       "CD          6844\n",
       "UHF34       3570\n",
       "Borough      880\n",
       "Citywide     176\n",
       "Name: Geo Type Name, dtype: int64"
      ]
     },
     "execution_count": 6,
     "metadata": {},
     "output_type": "execute_result"
    }
   ],
   "source": [
    "df['Geo Type Name']\\\n",
    "    .groupby(df['Geo Type Name'])\\\n",
    "    .count()\\\n",
    "    .sort_values(ascending=False)"
   ]
  },
  {
   "cell_type": "code",
   "execution_count": 7,
   "metadata": {},
   "outputs": [
    {
     "data": {
      "text/plain": [
       "array(['Queens', 'Manhattan', 'Bronx', 'Brooklyn', 'Staten Island'],\n",
       "      dtype=object)"
      ]
     },
     "execution_count": 7,
     "metadata": {},
     "output_type": "execute_result"
    }
   ],
   "source": [
    "df[df['Geo Type Name'] == 'Borough']['Geo Place Name'].unique()"
   ]
  },
  {
   "cell_type": "markdown",
   "metadata": {},
   "source": [
    "### Time Period"
   ]
  },
  {
   "cell_type": "code",
   "execution_count": 8,
   "metadata": {},
   "outputs": [
    {
     "data": {
      "text/plain": [
       "Time Period\n",
       "2005-2007              480\n",
       "2012-2014              480\n",
       "2009-2011              480\n",
       "2017-2019              480\n",
       "2015-2017              480\n",
       "Summer 2011            423\n",
       "Summer 2012            423\n",
       "Summer 2009            423\n",
       "Summer 2010            423\n",
       "Summer 2015            423\n",
       "Summer 2023            423\n",
       "Summer 2022            423\n",
       "Summer 2021            423\n",
       "Summer 2018            423\n",
       "Summer 2017            423\n",
       "Summer 2020            423\n",
       "Summer 2019            423\n",
       "Summer 2014            423\n",
       "Summer 2016            423\n",
       "Summer 2013            423\n",
       "2005                   417\n",
       "2010                   321\n",
       "2019                   321\n",
       "Annual Average 2014    282\n",
       "Annual Average 2009    282\n",
       "Annual Average 2022    282\n",
       "Winter 2008-09         282\n",
       "Winter 2009-10         282\n",
       "Winter 2010-11         282\n",
       "Annual Average 2021    282\n",
       "Annual Average 2020    282\n",
       "Annual Average 2019    282\n",
       "Annual Average 2018    282\n",
       "Annual Average 2013    282\n",
       "Annual Average 2012    282\n",
       "Annual Average 2011    282\n",
       "Annual Average 2010    282\n",
       "Annual Average 2017    282\n",
       "Annual Average 2016    282\n",
       "Annual Average 2015    282\n",
       "Annual Average 2023    282\n",
       "Winter 2015-16         282\n",
       "Winter 2016-17         282\n",
       "Winter 2017-18         282\n",
       "Winter 2018-19         282\n",
       "Winter 2011-12         282\n",
       "Winter 2012-13         282\n",
       "Winter 2013-14         282\n",
       "Winter 2014-15         282\n",
       "Winter 2019-20         282\n",
       "Winter 2020-21         282\n",
       "Winter 2021-22         282\n",
       "Winter 2022-23         282\n",
       "2011                   214\n",
       "2013                   144\n",
       "2015                   144\n",
       "2014                    96\n",
       "Name: Time Period, dtype: int64"
      ]
     },
     "execution_count": 8,
     "metadata": {},
     "output_type": "execute_result"
    }
   ],
   "source": [
    "df['Time Period']\\\n",
    "    .groupby(df['Time Period'])\\\n",
    "    .count()\\\n",
    "    .sort_values(ascending=False)"
   ]
  },
  {
   "cell_type": "markdown",
   "metadata": {},
   "source": [
    "## Study case\n",
    "\n",
    "### Asthma hospitalizations due to Ozone"
   ]
  },
  {
   "cell_type": "code",
   "execution_count": 9,
   "metadata": {},
   "outputs": [
    {
     "data": {
      "text/html": [
       "<div>\n",
       "<style scoped>\n",
       "    .dataframe tbody tr th:only-of-type {\n",
       "        vertical-align: middle;\n",
       "    }\n",
       "\n",
       "    .dataframe tbody tr th {\n",
       "        vertical-align: top;\n",
       "    }\n",
       "\n",
       "    .dataframe thead th {\n",
       "        text-align: right;\n",
       "    }\n",
       "</style>\n",
       "<table border=\"1\" class=\"dataframe\">\n",
       "  <thead>\n",
       "    <tr style=\"text-align: right;\">\n",
       "      <th></th>\n",
       "      <th>Name</th>\n",
       "      <th>Measure</th>\n",
       "      <th>Geo Place Name</th>\n",
       "      <th>Geo Type Name</th>\n",
       "      <th>Data Value</th>\n",
       "    </tr>\n",
       "  </thead>\n",
       "  <tbody>\n",
       "    <tr>\n",
       "      <th>3087</th>\n",
       "      <td>Asthma hospitalizations due to Ozone</td>\n",
       "      <td>Estimated annual rate (age 18+)</td>\n",
       "      <td>Willowbrook</td>\n",
       "      <td>UHF42</td>\n",
       "      <td>4.7</td>\n",
       "    </tr>\n",
       "    <tr>\n",
       "      <th>4980</th>\n",
       "      <td>Asthma hospitalizations due to Ozone</td>\n",
       "      <td>Estimated annual rate (age 18+)</td>\n",
       "      <td>Willowbrook</td>\n",
       "      <td>UHF42</td>\n",
       "      <td>3.8</td>\n",
       "    </tr>\n",
       "    <tr>\n",
       "      <th>8005</th>\n",
       "      <td>Asthma hospitalizations due to Ozone</td>\n",
       "      <td>Estimated annual rate (under age 18)</td>\n",
       "      <td>Willowbrook</td>\n",
       "      <td>UHF42</td>\n",
       "      <td>5.6</td>\n",
       "    </tr>\n",
       "    <tr>\n",
       "      <th>8008</th>\n",
       "      <td>Asthma hospitalizations due to Ozone</td>\n",
       "      <td>Estimated annual rate (under age 18)</td>\n",
       "      <td>Willowbrook</td>\n",
       "      <td>UHF42</td>\n",
       "      <td>7.1</td>\n",
       "    </tr>\n",
       "    <tr>\n",
       "      <th>8343</th>\n",
       "      <td>Asthma hospitalizations due to Ozone</td>\n",
       "      <td>Estimated annual rate (age 18+)</td>\n",
       "      <td>Willowbrook</td>\n",
       "      <td>UHF42</td>\n",
       "      <td>3.6</td>\n",
       "    </tr>\n",
       "    <tr>\n",
       "      <th>...</th>\n",
       "      <td>...</td>\n",
       "      <td>...</td>\n",
       "      <td>...</td>\n",
       "      <td>...</td>\n",
       "      <td>...</td>\n",
       "    </tr>\n",
       "    <tr>\n",
       "      <th>15561</th>\n",
       "      <td>Asthma hospitalizations due to Ozone</td>\n",
       "      <td>Estimated annual rate (age 18+)</td>\n",
       "      <td>Bayside - Little Neck</td>\n",
       "      <td>UHF42</td>\n",
       "      <td>1.2</td>\n",
       "    </tr>\n",
       "    <tr>\n",
       "      <th>9122</th>\n",
       "      <td>Asthma hospitalizations due to Ozone</td>\n",
       "      <td>Estimated annual rate (age 18+)</td>\n",
       "      <td>Bayside - Little Neck</td>\n",
       "      <td>UHF42</td>\n",
       "      <td>1.8</td>\n",
       "    </tr>\n",
       "    <tr>\n",
       "      <th>14104</th>\n",
       "      <td>Asthma hospitalizations due to Ozone</td>\n",
       "      <td>Estimated annual rate (under age 18)</td>\n",
       "      <td>Bayside - Little Neck</td>\n",
       "      <td>UHF42</td>\n",
       "      <td>8.3</td>\n",
       "    </tr>\n",
       "    <tr>\n",
       "      <th>18803</th>\n",
       "      <td>Asthma hospitalizations due to Ozone</td>\n",
       "      <td>Estimated annual rate (age 18+)</td>\n",
       "      <td>Bayside - Little Neck</td>\n",
       "      <td>UHF42</td>\n",
       "      <td>0.0</td>\n",
       "    </tr>\n",
       "    <tr>\n",
       "      <th>11464</th>\n",
       "      <td>Asthma hospitalizations due to Ozone</td>\n",
       "      <td>Estimated annual rate (under age 18)</td>\n",
       "      <td>Bayside - Little Neck</td>\n",
       "      <td>UHF42</td>\n",
       "      <td>7.5</td>\n",
       "    </tr>\n",
       "  </tbody>\n",
       "</table>\n",
       "<p>480 rows × 5 columns</p>\n",
       "</div>"
      ],
      "text/plain": [
       "                                       Name  \\\n",
       "3087   Asthma hospitalizations due to Ozone   \n",
       "4980   Asthma hospitalizations due to Ozone   \n",
       "8005   Asthma hospitalizations due to Ozone   \n",
       "8008   Asthma hospitalizations due to Ozone   \n",
       "8343   Asthma hospitalizations due to Ozone   \n",
       "...                                     ...   \n",
       "15561  Asthma hospitalizations due to Ozone   \n",
       "9122   Asthma hospitalizations due to Ozone   \n",
       "14104  Asthma hospitalizations due to Ozone   \n",
       "18803  Asthma hospitalizations due to Ozone   \n",
       "11464  Asthma hospitalizations due to Ozone   \n",
       "\n",
       "                                    Measure         Geo Place Name  \\\n",
       "3087        Estimated annual rate (age 18+)            Willowbrook   \n",
       "4980        Estimated annual rate (age 18+)            Willowbrook   \n",
       "8005   Estimated annual rate (under age 18)            Willowbrook   \n",
       "8008   Estimated annual rate (under age 18)            Willowbrook   \n",
       "8343        Estimated annual rate (age 18+)            Willowbrook   \n",
       "...                                     ...                    ...   \n",
       "15561       Estimated annual rate (age 18+)  Bayside - Little Neck   \n",
       "9122        Estimated annual rate (age 18+)  Bayside - Little Neck   \n",
       "14104  Estimated annual rate (under age 18)  Bayside - Little Neck   \n",
       "18803       Estimated annual rate (age 18+)  Bayside - Little Neck   \n",
       "11464  Estimated annual rate (under age 18)  Bayside - Little Neck   \n",
       "\n",
       "      Geo Type Name  Data Value  \n",
       "3087          UHF42         4.7  \n",
       "4980          UHF42         3.8  \n",
       "8005          UHF42         5.6  \n",
       "8008          UHF42         7.1  \n",
       "8343          UHF42         3.6  \n",
       "...             ...         ...  \n",
       "15561         UHF42         1.2  \n",
       "9122          UHF42         1.8  \n",
       "14104         UHF42         8.3  \n",
       "18803         UHF42         0.0  \n",
       "11464         UHF42         7.5  \n",
       "\n",
       "[480 rows x 5 columns]"
      ]
     },
     "execution_count": 9,
     "metadata": {},
     "output_type": "execute_result"
    }
   ],
   "source": [
    "sample = df[df['Name'] == 'Asthma hospitalizations due to Ozone'][['Name', 'Measure', 'Geo Place Name', 'Geo Type Name', 'Data Value']]\n",
    "\n",
    "sample.sort_values(by=['Geo Place Name'], ascending=False, inplace=True)\n",
    "\n",
    "sample"
   ]
  }
 ],
 "metadata": {
  "kernelspec": {
   "display_name": "dc",
   "language": "python",
   "name": "python3"
  },
  "language_info": {
   "codemirror_mode": {
    "name": "ipython",
    "version": 3
   },
   "file_extension": ".py",
   "mimetype": "text/x-python",
   "name": "python",
   "nbconvert_exporter": "python",
   "pygments_lexer": "ipython3",
   "version": "3.12.3"
  }
 },
 "nbformat": 4,
 "nbformat_minor": 2
}
