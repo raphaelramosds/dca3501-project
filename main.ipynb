{
 "cells": [
  {
   "cell_type": "markdown",
   "metadata": {},
   "source": [
    "# New York Air Quality"
   ]
  },
  {
   "cell_type": "markdown",
   "metadata": {},
   "source": [
    "## Read dataset"
   ]
  },
  {
   "cell_type": "code",
   "execution_count": 27,
   "metadata": {},
   "outputs": [
    {
     "data": {
      "text/html": [
       "<div>\n",
       "<style scoped>\n",
       "    .dataframe tbody tr th:only-of-type {\n",
       "        vertical-align: middle;\n",
       "    }\n",
       "\n",
       "    .dataframe tbody tr th {\n",
       "        vertical-align: top;\n",
       "    }\n",
       "\n",
       "    .dataframe thead th {\n",
       "        text-align: right;\n",
       "    }\n",
       "</style>\n",
       "<table border=\"1\" class=\"dataframe\">\n",
       "  <thead>\n",
       "    <tr style=\"text-align: right;\">\n",
       "      <th></th>\n",
       "      <th>Unique ID</th>\n",
       "      <th>Indicator ID</th>\n",
       "      <th>Name</th>\n",
       "      <th>Measure</th>\n",
       "      <th>Measure Info</th>\n",
       "      <th>Geo Type Name</th>\n",
       "      <th>Geo Join ID</th>\n",
       "      <th>Geo Place Name</th>\n",
       "      <th>Time Period</th>\n",
       "      <th>Start_Date</th>\n",
       "      <th>Data Value</th>\n",
       "      <th>Message</th>\n",
       "    </tr>\n",
       "  </thead>\n",
       "  <tbody>\n",
       "    <tr>\n",
       "      <th>0</th>\n",
       "      <td>336867</td>\n",
       "      <td>375</td>\n",
       "      <td>Nitrogen dioxide (NO2)</td>\n",
       "      <td>Mean</td>\n",
       "      <td>ppb</td>\n",
       "      <td>CD</td>\n",
       "      <td>407</td>\n",
       "      <td>Flushing and Whitestone (CD7)</td>\n",
       "      <td>Winter 2014-15</td>\n",
       "      <td>12/01/2014</td>\n",
       "      <td>23.97</td>\n",
       "      <td>NaN</td>\n",
       "    </tr>\n",
       "    <tr>\n",
       "      <th>1</th>\n",
       "      <td>336741</td>\n",
       "      <td>375</td>\n",
       "      <td>Nitrogen dioxide (NO2)</td>\n",
       "      <td>Mean</td>\n",
       "      <td>ppb</td>\n",
       "      <td>CD</td>\n",
       "      <td>107</td>\n",
       "      <td>Upper West Side (CD7)</td>\n",
       "      <td>Winter 2014-15</td>\n",
       "      <td>12/01/2014</td>\n",
       "      <td>27.42</td>\n",
       "      <td>NaN</td>\n",
       "    </tr>\n",
       "    <tr>\n",
       "      <th>2</th>\n",
       "      <td>550157</td>\n",
       "      <td>375</td>\n",
       "      <td>Nitrogen dioxide (NO2)</td>\n",
       "      <td>Mean</td>\n",
       "      <td>ppb</td>\n",
       "      <td>CD</td>\n",
       "      <td>414</td>\n",
       "      <td>Rockaway and Broad Channel (CD14)</td>\n",
       "      <td>Annual Average 2017</td>\n",
       "      <td>01/01/2017</td>\n",
       "      <td>12.55</td>\n",
       "      <td>NaN</td>\n",
       "    </tr>\n",
       "    <tr>\n",
       "      <th>3</th>\n",
       "      <td>412802</td>\n",
       "      <td>375</td>\n",
       "      <td>Nitrogen dioxide (NO2)</td>\n",
       "      <td>Mean</td>\n",
       "      <td>ppb</td>\n",
       "      <td>CD</td>\n",
       "      <td>407</td>\n",
       "      <td>Flushing and Whitestone (CD7)</td>\n",
       "      <td>Winter 2015-16</td>\n",
       "      <td>12/01/2015</td>\n",
       "      <td>22.63</td>\n",
       "      <td>NaN</td>\n",
       "    </tr>\n",
       "    <tr>\n",
       "      <th>4</th>\n",
       "      <td>412803</td>\n",
       "      <td>375</td>\n",
       "      <td>Nitrogen dioxide (NO2)</td>\n",
       "      <td>Mean</td>\n",
       "      <td>ppb</td>\n",
       "      <td>CD</td>\n",
       "      <td>407</td>\n",
       "      <td>Flushing and Whitestone (CD7)</td>\n",
       "      <td>Summer 2016</td>\n",
       "      <td>06/01/2016</td>\n",
       "      <td>14.00</td>\n",
       "      <td>NaN</td>\n",
       "    </tr>\n",
       "  </tbody>\n",
       "</table>\n",
       "</div>"
      ],
      "text/plain": [
       "   Unique ID  Indicator ID                    Name Measure Measure Info  \\\n",
       "0     336867           375  Nitrogen dioxide (NO2)    Mean          ppb   \n",
       "1     336741           375  Nitrogen dioxide (NO2)    Mean          ppb   \n",
       "2     550157           375  Nitrogen dioxide (NO2)    Mean          ppb   \n",
       "3     412802           375  Nitrogen dioxide (NO2)    Mean          ppb   \n",
       "4     412803           375  Nitrogen dioxide (NO2)    Mean          ppb   \n",
       "\n",
       "  Geo Type Name  Geo Join ID                     Geo Place Name  \\\n",
       "0            CD          407      Flushing and Whitestone (CD7)   \n",
       "1            CD          107              Upper West Side (CD7)   \n",
       "2            CD          414  Rockaway and Broad Channel (CD14)   \n",
       "3            CD          407      Flushing and Whitestone (CD7)   \n",
       "4            CD          407      Flushing and Whitestone (CD7)   \n",
       "\n",
       "           Time Period  Start_Date  Data Value  Message  \n",
       "0       Winter 2014-15  12/01/2014       23.97      NaN  \n",
       "1       Winter 2014-15  12/01/2014       27.42      NaN  \n",
       "2  Annual Average 2017  01/01/2017       12.55      NaN  \n",
       "3       Winter 2015-16  12/01/2015       22.63      NaN  \n",
       "4          Summer 2016  06/01/2016       14.00      NaN  "
      ]
     },
     "execution_count": 27,
     "metadata": {},
     "output_type": "execute_result"
    }
   ],
   "source": [
    "import pandas as pd\n",
    "\n",
    "df = pd.read_csv('./data/Air_Quality.csv', sep=',', decimal='.')\n",
    "\n",
    "df.head(5)\n"
   ]
  },
  {
   "cell_type": "markdown",
   "metadata": {},
   "source": [
    "## Investigating columns"
   ]
  },
  {
   "cell_type": "markdown",
   "metadata": {},
   "source": [
    "## Data classification\n",
    "\n",
    "It is not a homogeneous dataset because it has a vast variety of data types, such as\n",
    "\n",
    "- Diseases frequency (asthma, cardiac and respiratory deaths, etc.)\n",
    "- Inorganic chemical concentration in the air (O3, NO2, PM 2.5, Benzene)\n",
    "- Emission of poluents (SO2, NOx, PM2.5)"
   ]
  },
  {
   "cell_type": "code",
   "execution_count": 28,
   "metadata": {},
   "outputs": [
    {
     "data": {
      "text/plain": [
       "Name\n",
       "Nitrogen dioxide (NO2)                                    6345\n",
       "Fine particles (PM 2.5)                                   6345\n",
       "Ozone (O3)                                                2115\n",
       "Asthma emergency departments visits due to Ozone           480\n",
       "Asthma hospitalizations due to Ozone                       480\n",
       "Asthma emergency department visits due to PM2.5            480\n",
       "Annual vehicle miles traveled (cars)                       321\n",
       "Annual vehicle miles traveled                              321\n",
       "Annual vehicle miles traveled (trucks)                     321\n",
       "Cardiac and respiratory deaths due to Ozone                240\n",
       "Cardiovascular hospitalizations due to PM2.5 (age 40+)     240\n",
       "Respiratory hospitalizations due to PM2.5 (age 20+)        240\n",
       "Deaths due to PM2.5                                        240\n",
       "Outdoor Air Toxics - Formaldehyde                          203\n",
       "Outdoor Air Toxics - Benzene                               203\n",
       "Boiler Emissions- Total SO2 Emissions                       96\n",
       "Boiler Emissions- Total NOx Emissions                       96\n",
       "Boiler Emissions- Total PM2.5 Emissions                     96\n",
       "Name: Name, dtype: int64"
      ]
     },
     "execution_count": 28,
     "metadata": {},
     "output_type": "execute_result"
    }
   ],
   "source": [
    "df['Name']\\\n",
    "    .groupby(df['Name'])\\\n",
    "    .count()\\\n",
    "    .sort_values(ascending=False)"
   ]
  },
  {
   "cell_type": "markdown",
   "metadata": {},
   "source": [
    "## Measure strategies\n",
    "\n",
    "It's important to notice that there are different measures strategies on this dataset. So, one should assure that you're performing operations with data that has the same measure strategy"
   ]
  },
  {
   "cell_type": "code",
   "execution_count": 29,
   "metadata": {},
   "outputs": [
    {
     "data": {
      "text/plain": [
       "Measure\n",
       "Mean                                    14805\n",
       "Million miles                             963\n",
       "Estimated annual rate                     720\n",
       "Estimated annual rate (age 18+)           720\n",
       "Estimated annual rate (under age 18)      720\n",
       "Annual average concentration              406\n",
       "Number per km2                            288\n",
       "Estimated annual rate (age 30+)           240\n",
       "Name: Measure, dtype: int64"
      ]
     },
     "execution_count": 29,
     "metadata": {},
     "output_type": "execute_result"
    }
   ],
   "source": [
    "df['Measure']\\\n",
    "    .groupby(df['Measure'])\\\n",
    "    .count()\\\n",
    "    .sort_values(ascending=False)"
   ]
  },
  {
   "cell_type": "markdown",
   "metadata": {},
   "source": [
    "### Geotypes\n",
    "\n",
    "Here is an explanation of each geotype of this dataset\n",
    "\n",
    "- UHF42 (United Hospital Fund) refers to an aglomerate of 42 public health areas\n",
    "- CD refers to a community district\n",
    "- UHF34 is the same as UHF42, but with 34 health areas\n",
    "- Borough refers to a New York's district (Bronx, Brooklyn, Manhattan, Queens, and Staten Island)\n",
    "- City wide"
   ]
  },
  {
   "cell_type": "code",
   "execution_count": 31,
   "metadata": {},
   "outputs": [
    {
     "data": {
      "text/plain": [
       "Geo Type Name\n",
       "UHF42       7392\n",
       "CD          6844\n",
       "UHF34       3570\n",
       "Borough      880\n",
       "Citywide     176\n",
       "Name: Geo Type Name, dtype: int64"
      ]
     },
     "execution_count": 31,
     "metadata": {},
     "output_type": "execute_result"
    }
   ],
   "source": [
    "df['Geo Type Name']\\\n",
    "    .groupby(df['Geo Type Name'])\\\n",
    "    .count()\\\n",
    "    .sort_values(ascending=False)"
   ]
  },
  {
   "cell_type": "markdown",
   "metadata": {},
   "source": [
    "## Study cases\n",
    "\n",
    "### Cardiovascular hospitalizations due to PM2.5 (age 40+)"
   ]
  },
  {
   "cell_type": "code",
   "execution_count": 32,
   "metadata": {},
   "outputs": [
    {
     "data": {
      "text/html": [
       "<div>\n",
       "<style scoped>\n",
       "    .dataframe tbody tr th:only-of-type {\n",
       "        vertical-align: middle;\n",
       "    }\n",
       "\n",
       "    .dataframe tbody tr th {\n",
       "        vertical-align: top;\n",
       "    }\n",
       "\n",
       "    .dataframe thead th {\n",
       "        text-align: right;\n",
       "    }\n",
       "</style>\n",
       "<table border=\"1\" class=\"dataframe\">\n",
       "  <thead>\n",
       "    <tr style=\"text-align: right;\">\n",
       "      <th></th>\n",
       "      <th>Name</th>\n",
       "      <th>Measure</th>\n",
       "      <th>Geo Place Name</th>\n",
       "      <th>Geo Type Name</th>\n",
       "      <th>Data Value</th>\n",
       "    </tr>\n",
       "  </thead>\n",
       "  <tbody>\n",
       "    <tr>\n",
       "      <th>14237</th>\n",
       "      <td>Cardiovascular hospitalizations due to PM2.5 (...</td>\n",
       "      <td>Estimated annual rate</td>\n",
       "      <td>Willowbrook</td>\n",
       "      <td>UHF42</td>\n",
       "      <td>11.000000</td>\n",
       "    </tr>\n",
       "    <tr>\n",
       "      <th>11313</th>\n",
       "      <td>Cardiovascular hospitalizations due to PM2.5 (...</td>\n",
       "      <td>Estimated annual rate</td>\n",
       "      <td>Willowbrook</td>\n",
       "      <td>UHF42</td>\n",
       "      <td>17.800000</td>\n",
       "    </tr>\n",
       "    <tr>\n",
       "      <th>11064</th>\n",
       "      <td>Cardiovascular hospitalizations due to PM2.5 (...</td>\n",
       "      <td>Estimated annual rate</td>\n",
       "      <td>Willowbrook</td>\n",
       "      <td>UHF42</td>\n",
       "      <td>14.048749</td>\n",
       "    </tr>\n",
       "    <tr>\n",
       "      <th>11063</th>\n",
       "      <td>Cardiovascular hospitalizations due to PM2.5 (...</td>\n",
       "      <td>Estimated annual rate</td>\n",
       "      <td>Willowbrook</td>\n",
       "      <td>UHF42</td>\n",
       "      <td>16.800000</td>\n",
       "    </tr>\n",
       "    <tr>\n",
       "      <th>14849</th>\n",
       "      <td>Cardiovascular hospitalizations due to PM2.5 (...</td>\n",
       "      <td>Estimated annual rate</td>\n",
       "      <td>Willowbrook</td>\n",
       "      <td>UHF42</td>\n",
       "      <td>27.100000</td>\n",
       "    </tr>\n",
       "    <tr>\n",
       "      <th>...</th>\n",
       "      <td>...</td>\n",
       "      <td>...</td>\n",
       "      <td>...</td>\n",
       "      <td>...</td>\n",
       "      <td>...</td>\n",
       "    </tr>\n",
       "    <tr>\n",
       "      <th>14130</th>\n",
       "      <td>Cardiovascular hospitalizations due to PM2.5 (...</td>\n",
       "      <td>Estimated annual rate</td>\n",
       "      <td>Bayside - Little Neck</td>\n",
       "      <td>UHF42</td>\n",
       "      <td>12.500000</td>\n",
       "    </tr>\n",
       "    <tr>\n",
       "      <th>18458</th>\n",
       "      <td>Cardiovascular hospitalizations due to PM2.5 (...</td>\n",
       "      <td>Estimated annual rate</td>\n",
       "      <td>Bayside - Little Neck</td>\n",
       "      <td>UHF42</td>\n",
       "      <td>3.000000</td>\n",
       "    </tr>\n",
       "    <tr>\n",
       "      <th>18459</th>\n",
       "      <td>Cardiovascular hospitalizations due to PM2.5 (...</td>\n",
       "      <td>Estimated annual rate</td>\n",
       "      <td>Bayside - Little Neck</td>\n",
       "      <td>UHF42</td>\n",
       "      <td>18.300000</td>\n",
       "    </tr>\n",
       "    <tr>\n",
       "      <th>14114</th>\n",
       "      <td>Cardiovascular hospitalizations due to PM2.5 (...</td>\n",
       "      <td>Estimated annual rate</td>\n",
       "      <td>Bayside - Little Neck</td>\n",
       "      <td>UHF42</td>\n",
       "      <td>11.700000</td>\n",
       "    </tr>\n",
       "    <tr>\n",
       "      <th>15934</th>\n",
       "      <td>Cardiovascular hospitalizations due to PM2.5 (...</td>\n",
       "      <td>Estimated annual rate</td>\n",
       "      <td>Bayside - Little Neck</td>\n",
       "      <td>UHF42</td>\n",
       "      <td>8.655824</td>\n",
       "    </tr>\n",
       "  </tbody>\n",
       "</table>\n",
       "<p>240 rows × 5 columns</p>\n",
       "</div>"
      ],
      "text/plain": [
       "                                                    Name  \\\n",
       "14237  Cardiovascular hospitalizations due to PM2.5 (...   \n",
       "11313  Cardiovascular hospitalizations due to PM2.5 (...   \n",
       "11064  Cardiovascular hospitalizations due to PM2.5 (...   \n",
       "11063  Cardiovascular hospitalizations due to PM2.5 (...   \n",
       "14849  Cardiovascular hospitalizations due to PM2.5 (...   \n",
       "...                                                  ...   \n",
       "14130  Cardiovascular hospitalizations due to PM2.5 (...   \n",
       "18458  Cardiovascular hospitalizations due to PM2.5 (...   \n",
       "18459  Cardiovascular hospitalizations due to PM2.5 (...   \n",
       "14114  Cardiovascular hospitalizations due to PM2.5 (...   \n",
       "15934  Cardiovascular hospitalizations due to PM2.5 (...   \n",
       "\n",
       "                     Measure         Geo Place Name Geo Type Name  Data Value  \n",
       "14237  Estimated annual rate            Willowbrook         UHF42   11.000000  \n",
       "11313  Estimated annual rate            Willowbrook         UHF42   17.800000  \n",
       "11064  Estimated annual rate            Willowbrook         UHF42   14.048749  \n",
       "11063  Estimated annual rate            Willowbrook         UHF42   16.800000  \n",
       "14849  Estimated annual rate            Willowbrook         UHF42   27.100000  \n",
       "...                      ...                    ...           ...         ...  \n",
       "14130  Estimated annual rate  Bayside - Little Neck         UHF42   12.500000  \n",
       "18458  Estimated annual rate  Bayside - Little Neck         UHF42    3.000000  \n",
       "18459  Estimated annual rate  Bayside - Little Neck         UHF42   18.300000  \n",
       "14114  Estimated annual rate  Bayside - Little Neck         UHF42   11.700000  \n",
       "15934  Estimated annual rate  Bayside - Little Neck         UHF42    8.655824  \n",
       "\n",
       "[240 rows x 5 columns]"
      ]
     },
     "execution_count": 32,
     "metadata": {},
     "output_type": "execute_result"
    }
   ],
   "source": [
    "sample = df[df['Name'] == 'Cardiovascular hospitalizations due to PM2.5 (age 40+)'][['Name', 'Measure', 'Geo Place Name', 'Geo Type Name', 'Data Value']]\n",
    "\n",
    "sample.sort_values(by=['Geo Place Name'], ascending=False, inplace=True)\n",
    "\n",
    "sample"
   ]
  },
  {
   "cell_type": "code",
   "execution_count": 33,
   "metadata": {},
   "outputs": [
    {
     "data": {
      "text/plain": [
       "Measure\n",
       "Estimated annual rate    240\n",
       "Name: Measure, dtype: int64"
      ]
     },
     "execution_count": 33,
     "metadata": {},
     "output_type": "execute_result"
    }
   ],
   "source": [
    "sample['Measure'].groupby(sample['Measure']).count().sort_values(ascending=False)"
   ]
  },
  {
   "cell_type": "code",
   "execution_count": 34,
   "metadata": {},
   "outputs": [
    {
     "data": {
      "text/plain": [
       "Geo Place Name\n",
       "Bayside - Little Neck                   5\n",
       "Bedford Stuyvesant - Crown Heights      5\n",
       "Bensonhurst - Bay Ridge                 5\n",
       "Borough Park                            5\n",
       "Bronx                                   5\n",
       "Brooklyn                                5\n",
       "Canarsie - Flatlands                    5\n",
       "Central Harlem - Morningside Heights    5\n",
       "Chelsea - Clinton                       5\n",
       "Coney Island - Sheepshead Bay           5\n",
       "Crotona -Tremont                        5\n",
       "Downtown - Heights - Slope              5\n",
       "East Flatbush - Flatbush                5\n",
       "East Harlem                             5\n",
       "East New York                           5\n",
       "Flushing - Clearview                    5\n",
       "Fordham - Bronx Pk                      5\n",
       "Fresh Meadows                           5\n",
       "Gramercy Park - Murray Hill             5\n",
       "Greenpoint                              5\n",
       "Greenwich Village - SoHo                5\n",
       "High Bridge - Morrisania                5\n",
       "Hunts Point - Mott Haven                5\n",
       "Jamaica                                 5\n",
       "Kingsbridge - Riverdale                 5\n",
       "Long Island City - Astoria              5\n",
       "Lower Manhattan                         5\n",
       "Manhattan                               5\n",
       "New York City                           5\n",
       "Northeast Bronx                         5\n",
       "Pelham - Throgs Neck                    5\n",
       "Port Richmond                           5\n",
       "Queens                                  5\n",
       "Ridgewood - Forest Hills                5\n",
       "Rockaways                               5\n",
       "South Beach - Tottenville               5\n",
       "Southeast Queens                        5\n",
       "Southwest Queens                        5\n",
       "Stapleton - St. George                  5\n",
       "Staten Island                           5\n",
       "Sunset Park                             5\n",
       "Union Square - Lower East Side          5\n",
       "Upper East Side                         5\n",
       "Upper West Side                         5\n",
       "Washington Heights                      5\n",
       "West Queens                             5\n",
       "Williamsburg - Bushwick                 5\n",
       "Willowbrook                             5\n",
       "Name: Geo Place Name, dtype: int64"
      ]
     },
     "execution_count": 34,
     "metadata": {},
     "output_type": "execute_result"
    }
   ],
   "source": [
    "sample['Geo Place Name'].groupby(sample['Geo Place Name']).count().sort_values(ascending=False)"
   ]
  }
 ],
 "metadata": {
  "kernelspec": {
   "display_name": "dc",
   "language": "python",
   "name": "python3"
  },
  "language_info": {
   "codemirror_mode": {
    "name": "ipython",
    "version": 3
   },
   "file_extension": ".py",
   "mimetype": "text/x-python",
   "name": "python",
   "nbconvert_exporter": "python",
   "pygments_lexer": "ipython3",
   "version": "3.12.3"
  }
 },
 "nbformat": 4,
 "nbformat_minor": 2
}
